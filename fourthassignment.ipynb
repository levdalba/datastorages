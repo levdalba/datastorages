{
 "cells": [
  {
   "cell_type": "code",
   "execution_count": 29,
   "id": "68452031-838a-4569-95e9-41399ddb8ac8",
   "metadata": {},
   "outputs": [
    {
     "name": "stdout",
     "output_type": "stream",
     "text": [
      "Requirement already satisfied: pandas in /opt/anaconda3/lib/python3.12/site-packages (2.2.3)\n",
      "Requirement already satisfied: numpy>=1.26.0 in /opt/anaconda3/lib/python3.12/site-packages (from pandas) (2.1.1)\n",
      "Requirement already satisfied: python-dateutil>=2.8.2 in /opt/anaconda3/lib/python3.12/site-packages (from pandas) (2.9.0.post0)\n",
      "Requirement already satisfied: pytz>=2020.1 in /opt/anaconda3/lib/python3.12/site-packages (from pandas) (2024.1)\n",
      "Requirement already satisfied: tzdata>=2022.7 in /opt/anaconda3/lib/python3.12/site-packages (from pandas) (2025.1)\n",
      "Requirement already satisfied: six>=1.5 in /opt/anaconda3/lib/python3.12/site-packages (from python-dateutil>=2.8.2->pandas) (1.16.0)\n"
     ]
    }
   ],
   "source": [
    "!pip install pandas"
   ]
  },
  {
   "cell_type": "markdown",
   "id": "3e14ee4f-4be0-445a-83a6-c58aa503b1ae",
   "metadata": {},
   "source": [
    "# Import Libraries!"
   ]
  },
  {
   "cell_type": "code",
   "execution_count": 27,
   "id": "1802752c-5944-44a1-aa0a-333809780723",
   "metadata": {},
   "outputs": [],
   "source": [
    "from sqlalchemy.orm import sessionmaker\n",
    "import snowflake.connector\n",
    "import redis\n",
    "import pandas as pd\n",
    "import matplotlib.pyplot as plt\n",
    "import os\n",
    "from sqlalchemy import create_engine, text\n",
    "from dotenv import load_dotenv\n",
    "from sqlalchemy import Column, Integer, String, Text, Float, TIMESTAMP\n",
    "from sqlalchemy.ext.declarative import declarative_base\n",
    "from snowflake.connector.pandas_tools import write_pandas\n"
   ]
  },
  {
   "cell_type": "markdown",
   "id": "138514af-ea6a-4493-b9b4-011fcc50013c",
   "metadata": {},
   "source": [
    "# Get environment variables"
   ]
  },
  {
   "cell_type": "code",
   "execution_count": 8,
   "id": "0f7dec08-0324-4ced-b2e3-2b4c4c7e935f",
   "metadata": {},
   "outputs": [],
   "source": [
    "load_dotenv()\n",
    "\n",
    "DATABASE_URL = os.getenv('DATABASE_URL')\n",
    "REDIS_HOST = os.getenv('REDIS_HOST')\n",
    "REDIS_PORT = int(os.getenv('REDIS_PORT'))\n",
    "REDIS_USERNAME = os.getenv('REDIS_USERNAME')\n",
    "REDIS_PASSWORD = os.getenv('REDIS_PASSWORD')\n",
    "SNOWFLAKE_USER = os.getenv('SNOWFLAKE_USER')\n",
    "SNOWFLAKE_PASSWORD = os.getenv('SNOWFLAKE_PASSWORD')\n",
    "SNOWFLAKE_ACCOUNT = os.getenv('SNOWFLAKE_ACCOUNT')\n",
    "SNOWFLAKE_WAREHOUSE = os.getenv('SNOWFLAKE_WAREHOUSE')\n",
    "SNOWFLAKE_DATABASE = os.getenv('SNOWFLAKE_DATABASE')\n",
    "SNOWFLAKE_SCHEMA = os.getenv('SNOWFLAKE_SCHEMA')"
   ]
  },
  {
   "cell_type": "markdown",
   "id": "3418e5e4-d8c3-4772-94bf-a52db66954b1",
   "metadata": {},
   "source": [
    "# OLTP setup"
   ]
  },
  {
   "cell_type": "code",
   "execution_count": 10,
   "id": "6d25872c-3987-4c7d-b07b-ae3e7984f635",
   "metadata": {},
   "outputs": [
    {
     "name": "stdout",
     "output_type": "stream",
     "text": [
      "Extracted issues:\n",
      "   issue_id  citizen_id                    description        category  \\\n",
      "0         1           1            Broken streetlights  Infrastructure   \n",
      "1         2           2  Public park needs maintenance     Environment   \n",
      "2         4           1                        Issue 0  Infrastructure   \n",
      "3         5           1                        Issue 1  Infrastructure   \n",
      "4         6           1                        Issue 2  Infrastructure   \n",
      "\n",
      "   priority_level  latitude  longitude   status                 created_at  \n",
      "0               2   40.7128    -74.006  Pending 2025-03-04 07:24:24.420794  \n",
      "1               3   40.7138    -74.007  Pending 2025-03-04 07:24:24.420805  \n",
      "2               3   12.3400     56.780  Pending 2025-03-04 07:24:25.537125  \n",
      "3               3   12.3400     56.780  Pending 2025-03-04 07:24:26.113725  \n",
      "4               3   12.3400     56.780  Pending 2025-03-04 07:24:26.687319  \n",
      "Extracted votes:\n",
      "   vote_id  citizen_id  issue_id  priority_vote                 created_at\n",
      "0        1           1         1              5 2025-03-04 07:24:24.716908\n",
      "1        2           2         2              4 2025-03-04 07:24:24.716923\n",
      "2        3           1         1              3 2025-03-04 07:24:31.671569\n",
      "3        4           1         1              3 2025-03-04 07:24:31.958568\n",
      "4        5           1         1              3 2025-03-04 07:24:32.244628\n"
     ]
    }
   ],
   "source": [
    "postgres_engine = create_engine(os.getenv(\"DATABASE_URL\"))\n",
    "with postgres_engine.connect() as conn:\n",
    "    df_issues = pd.read_sql(text(\"SELECT * FROM urbanpulse.issue\"), conn)\n",
    "    df_votes = pd.read_sql(text(\"SELECT * FROM urbanpulse.vote\"), conn)\n",
    "\n",
    "print(\"Extracted issues:\")\n",
    "print(df_issues.head())\n",
    "print(\"Extracted votes:\")\n",
    "print(df_votes.head())"
   ]
  },
  {
   "cell_type": "markdown",
   "id": "39c6f8bf-0a34-4610-b3a1-d796c0b1dc23",
   "metadata": {},
   "source": [
    "# Redis setup"
   ]
  },
  {
   "cell_type": "code",
   "execution_count": 12,
   "id": "8e357fc2-ee23-423e-991c-47472b3d55cc",
   "metadata": {},
   "outputs": [],
   "source": [
    "r = redis.Redis(\n",
    "    host=os.getenv(\"REDIS_HOST\"),\n",
    "    port=int(os.getenv(\"REDIS_PORT\")),\n",
    "    username=os.getenv(\"REDIS_USERNAME\"),\n",
    "    password=os.getenv(\"REDIS_PASSWORD\"),\n",
    "    decode_responses=True\n",
    ")"
   ]
  },
  {
   "cell_type": "markdown",
   "id": "0f9215d8-c661-4c67-9a31-e6d50a15e835",
   "metadata": {},
   "source": [
    "# Snowflake setup"
   ]
  },
  {
   "cell_type": "code",
   "execution_count": 16,
   "id": "9b5cc1fd-70c8-42e6-b808-07516f70b18b",
   "metadata": {},
   "outputs": [],
   "source": [
    "sf_conn = snowflake.connector.connect(\n",
    "    user=SNOWFLAKE_USER,\n",
    "    password=SNOWFLAKE_PASSWORD,\n",
    "    account=SNOWFLAKE_ACCOUNT,\n",
    "    warehouse=SNOWFLAKE_WAREHOUSE,\n",
    "    database=SNOWFLAKE_DATABASE,\n",
    "    schema=SNOWFLAKE_SCHEMA,\n",
    "    ocsp_fail_open=False\n",
    ")\n",
    "\n",
    "sf_cursor = sf_conn.cursor()"
   ]
  },
  {
   "cell_type": "code",
   "execution_count": 17,
   "id": "b0718969-f328-488f-a5df-d45bc59524ae",
   "metadata": {},
   "outputs": [],
   "source": [
    "# For demonstration, assume we have one urban issue and want to capture its vote count.\n",
    "issue_key = \"issue:\" + df_issues.iloc[0][\"issue_id\"].__str__()\n",
    "redis_votes = r.hget(issue_key + \":votes\", \"total_votes\")\n",
    "redis_votes = int(redis_votes) if redis_votes is not None else 0"
   ]
  },
  {
   "cell_type": "code",
   "execution_count": 18,
   "id": "ac203cb3-74ce-4b8e-96b9-6de62177b593",
   "metadata": {},
   "outputs": [
    {
     "name": "stdout",
     "output_type": "stream",
     "text": [
      "Extracted Redis votes:\n",
      "   issue_id  redis_votes\n",
      "0         1            0\n"
     ]
    }
   ],
   "source": [
    "# Create a DataFrame to hold Redis analytics data.\n",
    "df_redis = pd.DataFrame([{\"issue_id\": df_issues.iloc[0][\"issue_id\"], \"redis_votes\": redis_votes}])\n",
    "print(\"Extracted Redis votes:\")\n",
    "print(df_redis)"
   ]
  },
  {
   "cell_type": "code",
   "execution_count": 26,
   "id": "6e08a542-a4d9-400c-9710-eefe3863e0a5",
   "metadata": {},
   "outputs": [
    {
     "data": {
      "text/plain": [
       "<snowflake.connector.cursor.SnowflakeCursor at 0x13b8052b0>"
      ]
     },
     "execution_count": 26,
     "metadata": {},
     "output_type": "execute_result"
    }
   ],
   "source": [
    "# Create staging tables for issues and votes (if not exist)\n",
    "create_issues_table = f\"\"\"\n",
    "CREATE OR REPLACE TABLE issues_analytics (\n",
    "    issue_id NUMBER,\n",
    "    citizen_id NUMBER,\n",
    "    description TEXT,\n",
    "    category VARCHAR,\n",
    "    priority_level NUMBER,\n",
    "    latitude FLOAT,\n",
    "    longitude FLOAT,\n",
    "    status VARCHAR,\n",
    "    created_at TIMESTAMP\n",
    ")\n",
    "\"\"\"\n",
    "create_votes_table = f\"\"\"\n",
    "CREATE OR REPLACE TABLE votes_analytics (\n",
    "    vote_id NUMBER,\n",
    "    citizen_id NUMBER,\n",
    "    issue_id NUMBER,\n",
    "    priority_vote NUMBER,\n",
    "    created_at TIMESTAMP\n",
    ")\n",
    "\"\"\"\n",
    "\n",
    "sf_cursor.execute(\"USE DATABASE SF_SAMPLE;\")\n",
    "sf_cursor.execute(\"USE SCHEMA urbanpulse;\") \n",
    "\n",
    "sf_cursor.execute(create_issues_table)\n",
    "sf_cursor.execute(create_votes_table)"
   ]
  },
  {
   "cell_type": "code",
   "execution_count": 30,
   "id": "1f4fa882-d705-4843-9c1e-995207993a86",
   "metadata": {},
   "outputs": [
    {
     "ename": "MissingDependencyError",
     "evalue": "Missing optional dependency: pandas",
     "output_type": "error",
     "traceback": [
      "\u001b[31m---------------------------------------------------------------------------\u001b[39m",
      "\u001b[31mMissingDependencyError\u001b[39m                    Traceback (most recent call last)",
      "\u001b[36mCell\u001b[39m\u001b[36m \u001b[39m\u001b[32mIn[30]\u001b[39m\u001b[32m, line 2\u001b[39m\n\u001b[32m      1\u001b[39m \u001b[38;5;66;03m# Load data from DataFrames into Snowflake tables using write_pandas\u001b[39;00m\n\u001b[32m----> \u001b[39m\u001b[32m2\u001b[39m \u001b[43mwrite_pandas\u001b[49m\u001b[43m(\u001b[49m\u001b[43msf_conn\u001b[49m\u001b[43m,\u001b[49m\u001b[43m \u001b[49m\u001b[43mdf_issues\u001b[49m\u001b[43m,\u001b[49m\u001b[43m \u001b[49m\u001b[33;43m\"\u001b[39;49m\u001b[33;43mISSUES_ANALYTICS\u001b[39;49m\u001b[33;43m\"\u001b[39;49m\u001b[43m)\u001b[49m\n\u001b[32m      3\u001b[39m write_pandas(sf_conn, df_votes, \u001b[33m\"\u001b[39m\u001b[33mVOTES_ANALYTICS\u001b[39m\u001b[33m\"\u001b[39m)\n",
      "\u001b[36mFile \u001b[39m\u001b[32m/opt/anaconda3/lib/python3.12/site-packages/snowflake/connector/pandas_tools.py:394\u001b[39m, in \u001b[36mwrite_pandas\u001b[39m\u001b[34m(conn, df, table_name, database, schema, chunk_size, compression, on_error, parallel, quote_identifiers, auto_create_table, create_temp_table, overwrite, table_type, use_logical_type, iceberg_config, **kwargs)\u001b[39m\n\u001b[32m    390\u001b[39m \u001b[38;5;28;01mif\u001b[39;00m chunk_size \u001b[38;5;129;01mis\u001b[39;00m \u001b[38;5;28;01mNone\u001b[39;00m:\n\u001b[32m    391\u001b[39m     chunk_size = \u001b[38;5;28mlen\u001b[39m(df)\n\u001b[32m    393\u001b[39m \u001b[38;5;28;01mif\u001b[39;00m \u001b[38;5;129;01mnot\u001b[39;00m (\n\u001b[32m--> \u001b[39m\u001b[32m394\u001b[39m     \u001b[38;5;28misinstance\u001b[39m(df.index, \u001b[43mpandas\u001b[49m\u001b[43m.\u001b[49m\u001b[43mRangeIndex\u001b[49m)\n\u001b[32m    395\u001b[39m     \u001b[38;5;129;01mand\u001b[39;00m \u001b[32m1\u001b[39m == df.index.step\n\u001b[32m    396\u001b[39m     \u001b[38;5;129;01mand\u001b[39;00m \u001b[32m0\u001b[39m == df.index.start\n\u001b[32m    397\u001b[39m ):\n\u001b[32m    398\u001b[39m     warnings.warn(\n\u001b[32m    399\u001b[39m         \u001b[33mf\u001b[39m\u001b[33m\"\u001b[39m\u001b[33mPandas Dataframe has non-standard index of type \u001b[39m\u001b[38;5;132;01m{\u001b[39;00m\u001b[38;5;28mstr\u001b[39m(\u001b[38;5;28mtype\u001b[39m(df.index))\u001b[38;5;132;01m}\u001b[39;00m\u001b[33m which will not be written.\u001b[39m\u001b[33m\"\u001b[39m\n\u001b[32m    400\u001b[39m         \u001b[33mf\u001b[39m\u001b[33m\"\u001b[39m\u001b[33m Consider changing the index to pd.RangeIndex(start=0,...,step=1) or \u001b[39m\u001b[33m\"\u001b[39m\n\u001b[32m   (...)\u001b[39m\u001b[32m    403\u001b[39m         stacklevel=\u001b[32m2\u001b[39m,\n\u001b[32m    404\u001b[39m     )\n\u001b[32m    406\u001b[39m \u001b[38;5;66;03m# use_logical_type should be True when dataframe contains datetimes with timezone.\u001b[39;00m\n\u001b[32m    407\u001b[39m \u001b[38;5;66;03m# https://github.com/snowflakedb/snowflake-connector-python/issues/1687\u001b[39;00m\n",
      "\u001b[36mFile \u001b[39m\u001b[32m/opt/anaconda3/lib/python3.12/site-packages/snowflake/connector/options.py:40\u001b[39m, in \u001b[36mMissingOptionalDependency.__getattr__\u001b[39m\u001b[34m(self, item)\u001b[39m\n\u001b[32m     39\u001b[39m \u001b[38;5;28;01mdef\u001b[39;00m\u001b[38;5;250m \u001b[39m\u001b[34m__getattr__\u001b[39m(\u001b[38;5;28mself\u001b[39m, item):\n\u001b[32m---> \u001b[39m\u001b[32m40\u001b[39m     \u001b[38;5;28;01mraise\u001b[39;00m errors.MissingDependencyError(\u001b[38;5;28mself\u001b[39m._dep_name)\n",
      "\u001b[31mMissingDependencyError\u001b[39m: Missing optional dependency: pandas"
     ]
    }
   ],
   "source": [
    "# Load data from DataFrames into Snowflake tables using write_pandas\n",
    "write_pandas(sf_conn, df_issues, \"ISSUES_ANALYTICS\")\n",
    "write_pandas(sf_conn, df_votes, \"VOTES_ANALYTICS\")\n"
   ]
  },
  {
   "cell_type": "markdown",
   "id": "6ea4f21d-1b64-4d18-8924-93452f8504cf",
   "metadata": {},
   "source": [
    "# Function from Task 2 to report an issue"
   ]
  },
  {
   "cell_type": "code",
   "execution_count": 24,
   "id": "f21401b5-d22c-4a9c-a041-cc9859236102",
   "metadata": {},
   "outputs": [],
   "source": [
    "def report_issue(citizen_id, description, category, priority_level, latitude, longitude):\n",
    "    session = Session()\n",
    "    issue = Issue(citizen_id=citizen_id, description=description, category=category,\n",
    "                  priority_level=priority_level, latitude=latitude, longitude=longitude, status=\"Pending\")\n",
    "    session.add(issue)\n",
    "    session.commit()\n",
    "    issue_id = issue.issue_id\n",
    "    session.close()\n",
    "    return issue_id"
   ]
  },
  {
   "cell_type": "markdown",
   "id": "4bab363a-e974-48ac-8d15-9ab45bfe6243",
   "metadata": {},
   "source": [
    "# Function from Task 3 to create a vote"
   ]
  },
  {
   "cell_type": "code",
   "execution_count": 25,
   "id": "9486f358-ec8c-406a-bbd9-02d33e54b13a",
   "metadata": {},
   "outputs": [],
   "source": [
    "def create_vote(issue_id, user_id):\n",
    "    issue_key = f\"issue:{issue_id}\"\n",
    "    vote_key = f\"vote:{issue_id}:{user_id}\"\n",
    "    expires_at = r.hget(issue_key, \"expires_at\")\n",
    "    if not expires_at or time.time() > float(expires_at):\n",
    "        return False\n",
    "    if r.exists(vote_key):\n",
    "        return False\n",
    "    r.hincrby(issue_key + \":votes\", \"total_votes\", 1)\n",
    "    r.set(vote_key, \"VOTED\")\n",
    "    return True"
   ]
  },
  {
   "cell_type": "markdown",
   "id": "12fc9b32-a2f5-41b1-8e86-5987c4b1d4ea",
   "metadata": {},
   "source": [
    "# Load functions (simplified from Step 1)"
   ]
  },
  {
   "cell_type": "code",
   "execution_count": 26,
   "id": "daf7c05c-c312-4417-ad6c-0ad03309f8ae",
   "metadata": {},
   "outputs": [],
   "source": [
    "def load_oltp_to_snowflake():\n",
    "    session = Session()\n",
    "    sf_cursor = sf_conn.cursor()\n",
    "    issues = session.execute(\"SELECT issue_id, citizen_id, description, category, priority_level, status, created_at FROM urbanpulse.issue\").fetchall()\n",
    "    sf_cursor.execute(\"TRUNCATE TABLE urbanpulse.issue\")  # Reset for demo\n",
    "    sf_cursor.executemany(\n",
    "        \"INSERT INTO urbanpulse.issue (issue_id, citizen_id, description, category, priority_level, status, created_at) VALUES (%s, %s, %s, %s, %s, %s, %s)\",\n",
    "        issues\n",
    "    )\n",
    "    sf_conn.commit()\n",
    "    session.close()\n",
    "    sf_cursor.close()\n",
    "\n",
    "def load_redis_to_snowflake():\n",
    "    sf_cursor = sf_conn.cursor()\n",
    "    issues = []\n",
    "    cursor = \"0\"\n",
    "    while cursor != \"0\":\n",
    "        cursor, keys = r.scan(cursor=cursor, match=\"issue:*\", count=100)\n",
    "        for key in keys:\n",
    "            if key.endswith(\":votes\"):\n",
    "                continue\n",
    "            issue_id = key.split(\":\")[1]\n",
    "            issue_data = r.hgetall(key)\n",
    "            total_votes = r.hget(key + \":votes\", \"total_votes\") or 0\n",
    "            issues.append((issue_id, issue_data.get(\"title\"), issue_data.get(\"description\"), float(issue_data.get(\"expires_at\")), int(total_votes)))\n",
    "    sf_cursor.execute(\"TRUNCATE TABLE urbanpulse.redis_issues\")  # Reset for demo\n",
    "    sf_cursor.executemany(\n",
    "        \"INSERT INTO urbanpulse.redis_issues (issue_id, title, description, expires_at, total_votes) VALUES (%s, %s, %s, TO_TIMESTAMP(%s), %s)\",\n",
    "        issues\n",
    "    )\n",
    "    sf_conn.commit()\n",
    "    sf_cursor.close()"
   ]
  },
  {
   "cell_type": "markdown",
   "id": "95e712b7-c9e5-403f-a0fb-e9199cc8a7d2",
   "metadata": {},
   "source": [
    "# Demonstration"
   ]
  },
  {
   "cell_type": "code",
   "execution_count": 27,
   "id": "21076d64-70d5-4d90-a8c5-8bc2b9f5847a",
   "metadata": {},
   "outputs": [],
   "source": [
    "sf_cursor = sf_conn.cursor()"
   ]
  },
  {
   "cell_type": "markdown",
   "id": "2aa667b8-b64b-4ac1-90e5-3155d6dadf4c",
   "metadata": {},
   "source": [
    "# Initial OLTP Analytics"
   ]
  },
  {
   "cell_type": "code",
   "execution_count": 29,
   "id": "b658a87f-110c-473b-ae10-d90f2c4eb063",
   "metadata": {},
   "outputs": [
    {
     "name": "stdout",
     "output_type": "stream",
     "text": [
      "Initial Citizen Engagement:\n"
     ]
    },
    {
     "ename": "ProgrammingError",
     "evalue": "090105 (22000): Cannot perform SELECT. This session does not have a current database. Call 'USE DATABASE', or use a qualified name.",
     "output_type": "error",
     "traceback": [
      "\u001b[31m---------------------------------------------------------------------------\u001b[39m",
      "\u001b[31mProgrammingError\u001b[39m                          Traceback (most recent call last)",
      "\u001b[36mCell\u001b[39m\u001b[36m \u001b[39m\u001b[32mIn[29]\u001b[39m\u001b[32m, line 2\u001b[39m\n\u001b[32m      1\u001b[39m \u001b[38;5;28mprint\u001b[39m(\u001b[33m\"\u001b[39m\u001b[33mInitial Citizen Engagement:\u001b[39m\u001b[33m\"\u001b[39m)\n\u001b[32m----> \u001b[39m\u001b[32m2\u001b[39m initial = \u001b[43msf_cursor\u001b[49m\u001b[43m.\u001b[49m\u001b[43mexecute\u001b[49m\u001b[43m(\u001b[49m\u001b[33;43m\"\u001b[39;49m\u001b[33;43mSELECT * FROM urbanpulse.citizen_engagement WHERE citizen_id = 1\u001b[39;49m\u001b[33;43m\"\u001b[39;49m\u001b[43m)\u001b[49m.fetchone()\n\u001b[32m      3\u001b[39m \u001b[38;5;28mprint\u001b[39m(\u001b[33mf\u001b[39m\u001b[33m\"\u001b[39m\u001b[33mCitizen 1 - Issues Reported: \u001b[39m\u001b[38;5;132;01m{\u001b[39;00minitial[\u001b[32m2\u001b[39m]\u001b[38;5;132;01m}\u001b[39;00m\u001b[33m, Votes Cast: \u001b[39m\u001b[38;5;132;01m{\u001b[39;00minitial[\u001b[32m3\u001b[39m]\u001b[38;5;132;01m}\u001b[39;00m\u001b[33m\"\u001b[39m)\n",
      "\u001b[36mFile \u001b[39m\u001b[32m/opt/anaconda3/lib/python3.12/site-packages/snowflake/connector/cursor.py:1104\u001b[39m, in \u001b[36mSnowflakeCursor.execute\u001b[39m\u001b[34m(self, command, params, _bind_stage, timeout, _exec_async, _no_retry, _do_reset, _put_callback, _put_azure_callback, _put_callback_output_stream, _get_callback, _get_azure_callback, _get_callback_output_stream, _show_progress_bar, _statement_params, _is_internal, _describe_only, _no_results, _is_put_get, _raise_put_get_error, _force_put_overwrite, _skip_upload_on_content_match, file_stream, num_statements, _force_qmark_paramstyle, _dataframe_ast)\u001b[39m\n\u001b[32m   1100\u001b[39m     is_integrity_error = (\n\u001b[32m   1101\u001b[39m         code == \u001b[33m\"\u001b[39m\u001b[33m100072\u001b[39m\u001b[33m\"\u001b[39m\n\u001b[32m   1102\u001b[39m     )  \u001b[38;5;66;03m# NULL result in a non-nullable column\u001b[39;00m\n\u001b[32m   1103\u001b[39m     error_class = IntegrityError \u001b[38;5;28;01mif\u001b[39;00m is_integrity_error \u001b[38;5;28;01melse\u001b[39;00m ProgrammingError\n\u001b[32m-> \u001b[39m\u001b[32m1104\u001b[39m     \u001b[43mError\u001b[49m\u001b[43m.\u001b[49m\u001b[43merrorhandler_wrapper\u001b[49m\u001b[43m(\u001b[49m\u001b[38;5;28;43mself\u001b[39;49m\u001b[43m.\u001b[49m\u001b[43mconnection\u001b[49m\u001b[43m,\u001b[49m\u001b[43m \u001b[49m\u001b[38;5;28;43mself\u001b[39;49m\u001b[43m,\u001b[49m\u001b[43m \u001b[49m\u001b[43merror_class\u001b[49m\u001b[43m,\u001b[49m\u001b[43m \u001b[49m\u001b[43merrvalue\u001b[49m\u001b[43m)\u001b[49m\n\u001b[32m   1105\u001b[39m \u001b[38;5;28;01mreturn\u001b[39;00m \u001b[38;5;28mself\u001b[39m\n",
      "\u001b[36mFile \u001b[39m\u001b[32m/opt/anaconda3/lib/python3.12/site-packages/snowflake/connector/errors.py:283\u001b[39m, in \u001b[36mError.errorhandler_wrapper\u001b[39m\u001b[34m(connection, cursor, error_class, error_value)\u001b[39m\n\u001b[32m    260\u001b[39m \u001b[38;5;129m@staticmethod\u001b[39m\n\u001b[32m    261\u001b[39m \u001b[38;5;28;01mdef\u001b[39;00m\u001b[38;5;250m \u001b[39m\u001b[34merrorhandler_wrapper\u001b[39m(\n\u001b[32m    262\u001b[39m     connection: SnowflakeConnection | \u001b[38;5;28;01mNone\u001b[39;00m,\n\u001b[32m   (...)\u001b[39m\u001b[32m    265\u001b[39m     error_value: \u001b[38;5;28mdict\u001b[39m[\u001b[38;5;28mstr\u001b[39m, Any],\n\u001b[32m    266\u001b[39m ) -> \u001b[38;5;28;01mNone\u001b[39;00m:\n\u001b[32m    267\u001b[39m \u001b[38;5;250m    \u001b[39m\u001b[33;03m\"\"\"Error handler wrapper that calls the errorhandler method.\u001b[39;00m\n\u001b[32m    268\u001b[39m \n\u001b[32m    269\u001b[39m \u001b[33;03m    Args:\u001b[39;00m\n\u001b[32m   (...)\u001b[39m\u001b[32m    280\u001b[39m \u001b[33;03m        exception to the first handler in that order.\u001b[39;00m\n\u001b[32m    281\u001b[39m \u001b[33;03m    \"\"\"\u001b[39;00m\n\u001b[32m--> \u001b[39m\u001b[32m283\u001b[39m     handed_over = \u001b[43mError\u001b[49m\u001b[43m.\u001b[49m\u001b[43mhand_to_other_handler\u001b[49m\u001b[43m(\u001b[49m\n\u001b[32m    284\u001b[39m \u001b[43m        \u001b[49m\u001b[43mconnection\u001b[49m\u001b[43m,\u001b[49m\n\u001b[32m    285\u001b[39m \u001b[43m        \u001b[49m\u001b[43mcursor\u001b[49m\u001b[43m,\u001b[49m\n\u001b[32m    286\u001b[39m \u001b[43m        \u001b[49m\u001b[43merror_class\u001b[49m\u001b[43m,\u001b[49m\n\u001b[32m    287\u001b[39m \u001b[43m        \u001b[49m\u001b[43merror_value\u001b[49m\u001b[43m,\u001b[49m\n\u001b[32m    288\u001b[39m \u001b[43m    \u001b[49m\u001b[43m)\u001b[49m\n\u001b[32m    289\u001b[39m     \u001b[38;5;28;01mif\u001b[39;00m \u001b[38;5;129;01mnot\u001b[39;00m handed_over:\n\u001b[32m    290\u001b[39m         \u001b[38;5;28;01mraise\u001b[39;00m Error.errorhandler_make_exception(\n\u001b[32m    291\u001b[39m             error_class,\n\u001b[32m    292\u001b[39m             error_value,\n\u001b[32m    293\u001b[39m         )\n",
      "\u001b[36mFile \u001b[39m\u001b[32m/opt/anaconda3/lib/python3.12/site-packages/snowflake/connector/errors.py:338\u001b[39m, in \u001b[36mError.hand_to_other_handler\u001b[39m\u001b[34m(connection, cursor, error_class, error_value)\u001b[39m\n\u001b[32m    336\u001b[39m \u001b[38;5;28;01mif\u001b[39;00m cursor \u001b[38;5;129;01mis\u001b[39;00m \u001b[38;5;129;01mnot\u001b[39;00m \u001b[38;5;28;01mNone\u001b[39;00m:\n\u001b[32m    337\u001b[39m     cursor.messages.append((error_class, error_value))\n\u001b[32m--> \u001b[39m\u001b[32m338\u001b[39m     \u001b[43mcursor\u001b[49m\u001b[43m.\u001b[49m\u001b[43merrorhandler\u001b[49m\u001b[43m(\u001b[49m\u001b[43mconnection\u001b[49m\u001b[43m,\u001b[49m\u001b[43m \u001b[49m\u001b[43mcursor\u001b[49m\u001b[43m,\u001b[49m\u001b[43m \u001b[49m\u001b[43merror_class\u001b[49m\u001b[43m,\u001b[49m\u001b[43m \u001b[49m\u001b[43merror_value\u001b[49m\u001b[43m)\u001b[49m\n\u001b[32m    339\u001b[39m     \u001b[38;5;28;01mreturn\u001b[39;00m \u001b[38;5;28;01mTrue\u001b[39;00m\n\u001b[32m    340\u001b[39m \u001b[38;5;28;01melif\u001b[39;00m connection \u001b[38;5;129;01mis\u001b[39;00m \u001b[38;5;129;01mnot\u001b[39;00m \u001b[38;5;28;01mNone\u001b[39;00m:\n",
      "\u001b[36mFile \u001b[39m\u001b[32m/opt/anaconda3/lib/python3.12/site-packages/snowflake/connector/errors.py:214\u001b[39m, in \u001b[36mError.default_errorhandler\u001b[39m\u001b[34m(connection, cursor, error_class, error_value)\u001b[39m\n\u001b[32m    212\u001b[39m errno = error_value.get(\u001b[33m\"\u001b[39m\u001b[33merrno\u001b[39m\u001b[33m\"\u001b[39m)\n\u001b[32m    213\u001b[39m done_format_msg = error_value.get(\u001b[33m\"\u001b[39m\u001b[33mdone_format_msg\u001b[39m\u001b[33m\"\u001b[39m)\n\u001b[32m--> \u001b[39m\u001b[32m214\u001b[39m \u001b[38;5;28;01mraise\u001b[39;00m error_class(\n\u001b[32m    215\u001b[39m     msg=error_value.get(\u001b[33m\"\u001b[39m\u001b[33mmsg\u001b[39m\u001b[33m\"\u001b[39m),\n\u001b[32m    216\u001b[39m     errno=\u001b[38;5;28;01mNone\u001b[39;00m \u001b[38;5;28;01mif\u001b[39;00m errno \u001b[38;5;129;01mis\u001b[39;00m \u001b[38;5;28;01mNone\u001b[39;00m \u001b[38;5;28;01melse\u001b[39;00m \u001b[38;5;28mint\u001b[39m(errno),\n\u001b[32m    217\u001b[39m     sqlstate=error_value.get(\u001b[33m\"\u001b[39m\u001b[33msqlstate\u001b[39m\u001b[33m\"\u001b[39m),\n\u001b[32m    218\u001b[39m     sfqid=error_value.get(\u001b[33m\"\u001b[39m\u001b[33msfqid\u001b[39m\u001b[33m\"\u001b[39m),\n\u001b[32m    219\u001b[39m     query=error_value.get(\u001b[33m\"\u001b[39m\u001b[33mquery\u001b[39m\u001b[33m\"\u001b[39m),\n\u001b[32m    220\u001b[39m     done_format_msg=(\n\u001b[32m    221\u001b[39m         \u001b[38;5;28;01mNone\u001b[39;00m \u001b[38;5;28;01mif\u001b[39;00m done_format_msg \u001b[38;5;129;01mis\u001b[39;00m \u001b[38;5;28;01mNone\u001b[39;00m \u001b[38;5;28;01melse\u001b[39;00m \u001b[38;5;28mbool\u001b[39m(done_format_msg)\n\u001b[32m    222\u001b[39m     ),\n\u001b[32m    223\u001b[39m     connection=connection,\n\u001b[32m    224\u001b[39m     cursor=cursor,\n\u001b[32m    225\u001b[39m )\n",
      "\u001b[31mProgrammingError\u001b[39m: 090105 (22000): Cannot perform SELECT. This session does not have a current database. Call 'USE DATABASE', or use a qualified name."
     ]
    }
   ],
   "source": [
    "print(\"Initial Citizen Engagement:\")\n",
    "initial = sf_cursor.execute(\"SELECT * FROM urbanpulse.citizen_engagement WHERE citizen_id = 1\").fetchone()\n",
    "print(f\"Citizen 1 - Issues Reported: {initial[2]}, Votes Cast: {initial[3]}\")"
   ]
  },
  {
   "cell_type": "markdown",
   "id": "c2112da9-c8dd-41fc-a655-c8f75185caad",
   "metadata": {},
   "source": [
    "# Perform OLTP Operation: Report a new issue"
   ]
  },
  {
   "cell_type": "code",
   "execution_count": null,
   "id": "4d41f640-d138-4dbb-ab1c-6acbd4a5d9cc",
   "metadata": {},
   "outputs": [],
   "source": [
    "report_issue(1, \"New pothole\", \"Infrastructure\", 2, 40.7128, -74.0060)\n",
    "load_oltp_to_snowflake()"
   ]
  },
  {
   "cell_type": "markdown",
   "id": "0a674186-7daa-4037-aa5c-49792572b9c2",
   "metadata": {},
   "source": [
    "# Updated OLTP Analytics"
   ]
  },
  {
   "cell_type": "code",
   "execution_count": null,
   "id": "bada84a1-0afc-4878-b3ba-723af7d5cfbb",
   "metadata": {},
   "outputs": [],
   "source": [
    "print(\"\\nUpdated Citizen Engagement after Reporting Issue:\")\n",
    "updated = sf_cursor.execute(\"SELECT * FROM urbanpulse.citizen_engagement WHERE citizen_id = 1\").fetchone()\n",
    "print(f\"Citizen 1 - Issues Reported: {updated[2]}, Votes Cast: {updated[3]}\")"
   ]
  },
  {
   "cell_type": "markdown",
   "id": "366bd40f-ee62-4279-8e4f-0b8539037ec2",
   "metadata": {},
   "source": [
    "# Initial Redis Analytics"
   ]
  },
  {
   "cell_type": "code",
   "execution_count": null,
   "id": "7568b975-3587-4092-a75f-e76eae60448c",
   "metadata": {},
   "outputs": [],
   "source": [
    "print(\"\\nInitial Top Redis Issue:\")\n",
    "initial_redis = sf_cursor.execute(\"SELECT * FROM urbanpulse.top_redis_issues LIMIT 1\").fetchone()\n",
    "print(f\"Issue {initial_redis[0]} - Title: {initial_redis[1]}, Votes: {initial_redis[2]}\""
   ]
  },
  {
   "cell_type": "markdown",
   "id": "65737974-1f4d-48a3-bc97-39cdbd0e40d6",
   "metadata": {},
   "source": [
    "# Perform Redis Operation: Cast votes"
   ]
  },
  {
   "cell_type": "code",
   "execution_count": null,
   "id": "3e5f4d66-bf57-4d00-b9f5-75c002e1538e",
   "metadata": {},
   "outputs": [],
   "source": [
    "issue_id = initial_redis[0]\n",
    "for i in range(5):\n",
    "    create_vote(issue_id, f\"user_new_{i}\")\n",
    "load_redis_to_snowflake()"
   ]
  },
  {
   "cell_type": "markdown",
   "id": "c3db30d7-fdbd-46ab-a2cd-126bc79e513e",
   "metadata": {},
   "source": [
    "# Updated Redis Analytics"
   ]
  },
  {
   "cell_type": "code",
   "execution_count": null,
   "id": "8237cd13-2d2c-4c19-bb5f-a8a3cdd264ee",
   "metadata": {},
   "outputs": [],
   "source": [
    "print(\"\\nUpdated Top Redis Issue after Voting:\")\n",
    "updated_redis = sf_cursor.execute(\"SELECT * FROM urbanpulse.top_redis_issues LIMIT 1\").fetchone()\n",
    "print(f\"Issue {updated_redis[0]} - Title: {updated_redis[1]}, Votes: {updated_redis[2]}\")\n",
    "\n",
    "sf_conn.close()"
   ]
  }
 ],
 "metadata": {
  "kernelspec": {
   "display_name": "Python 3 (ipykernel)",
   "language": "python",
   "name": "python3"
  },
  "language_info": {
   "codemirror_mode": {
    "name": "ipython",
    "version": 3
   },
   "file_extension": ".py",
   "mimetype": "text/x-python",
   "name": "python",
   "nbconvert_exporter": "python",
   "pygments_lexer": "ipython3",
   "version": "3.12.7"
  }
 },
 "nbformat": 4,
 "nbformat_minor": 5
}

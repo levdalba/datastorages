{
 "cells": [
  {
   "cell_type": "markdown",
   "id": "6d7ff6f0-68df-442f-bc62-0be8028cbfb1",
   "metadata": {},
   "source": [
    "# importing libraries"
   ]
  },
  {
   "cell_type": "code",
   "execution_count": 2,
   "id": "df09497f-656e-4e22-9818-d8e494010b40",
   "metadata": {},
   "outputs": [],
   "source": [
    "import time\n",
    "import redis\n",
    "from redis import ConnectionPool\n",
    "from redis.exceptions import ConnectionError\n",
    "from concurrent.futures import ThreadPoolExecutor\n",
    "from tqdm import tqdm\n",
    "import uuid\n",
    "import multiprocessing\n",
    "from dotenv import load_dotenv\n",
    "import os"
   ]
  },
  {
   "cell_type": "markdown",
   "id": "05287a63-655b-467a-9650-9beda322f2c6",
   "metadata": {},
   "source": [
    "# Redis connection pool setup"
   ]
  },
  {
   "cell_type": "code",
   "execution_count": 3,
   "id": "f29ba69e-9745-4152-a6b4-9c6475c1848c",
   "metadata": {},
   "outputs": [],
   "source": [
    "# Load environment variables from .env file\n",
    "load_dotenv()\n",
    "\n",
    "# Get environment variables\n",
    "REDIS_HOST = os.getenv('REDIS_HOST')\n",
    "REDIS_PORT = int(os.getenv('REDIS_PORT'))\n",
    "REDIS_USERNAME = os.getenv('REDIS_USERNAME')\n",
    "REDIS_PASSWORD = os.getenv('REDIS_PASSWORD')\n",
    "\n",
    "# Initialize the Redis connection pool\n",
    "pool = redis.ConnectionPool(\n",
    "    host=REDIS_HOST,\n",
    "    port=REDIS_PORT,\n",
    "    username=REDIS_USERNAME,\n",
    "    password=REDIS_PASSWORD,\n",
    "    max_connections=100,\n",
    "    decode_responses=True\n",
    ")\n",
    "\n",
    "r = redis.Redis(connection_pool=pool)"
   ]
  },
  {
   "cell_type": "markdown",
   "id": "6cb9a4a4-5c63-4018-b163-a374d56d7970",
   "metadata": {},
   "source": [
    "# Prefixes for keys"
   ]
  },
  {
   "cell_type": "code",
   "execution_count": 3,
   "id": "6c357409-5130-4fc8-a3d9-4118d5734bfd",
   "metadata": {},
   "outputs": [],
   "source": [
    "ISSUE_PREFIX = \"issue:\"\n",
    "VOTE_PREFIX = \"vote:\""
   ]
  },
  {
   "cell_type": "markdown",
   "id": "b1f0e02d-3d37-410e-a14e-915d9a95edf0",
   "metadata": {},
   "source": [
    "# Utility function for safe Redis operations with retries"
   ]
  },
  {
   "cell_type": "code",
   "execution_count": 4,
   "id": "c455b86b-46c7-4693-b758-748259301849",
   "metadata": {},
   "outputs": [],
   "source": [
    "def safe_redis_operation(operation, *args, **kwargs):\n",
    "    retries = 3\n",
    "    for attempt in range(retries):\n",
    "        try:\n",
    "            return operation(*args, **kwargs)\n",
    "        except ConnectionError as e:\n",
    "            if attempt < retries - 1:\n",
    "                time.sleep(1)\n",
    "                continue\n",
    "            else:\n",
    "                raise e"
   ]
  },
  {
   "cell_type": "markdown",
   "id": "d040d3d2-b04d-41fd-9930-96c9bc68b07b",
   "metadata": {},
   "source": [
    "# Function to create an urban issue"
   ]
  },
  {
   "cell_type": "code",
   "execution_count": 5,
   "id": "911aafad-2c7a-4b7c-8711-46f189c8b414",
   "metadata": {},
   "outputs": [],
   "source": [
    "def create_urban_issue(title: str, description: str, expires_in: int = 9000000) -> str:\n",
    "    issue_id = str(uuid.uuid4())\n",
    "    issue_key = ISSUE_PREFIX + issue_id\n",
    "    safe_redis_operation(\n",
    "        r.hset,\n",
    "        issue_key,\n",
    "        mapping={\n",
    "            \"title\": title,\n",
    "            \"description\": description,\n",
    "            \"expires_at\": time.time() + expires_in\n",
    "        }\n",
    "    )\n",
    "    safe_redis_operation(r.hset, issue_key + \":votes\", \"total_votes\", 0)\n",
    "    return issue_id"
   ]
  },
  {
   "cell_type": "markdown",
   "id": "4ad5c50c-bf94-4f76-9275-37f75acacab5",
   "metadata": {},
   "source": [
    "# Function to create a vote"
   ]
  },
  {
   "cell_type": "code",
   "execution_count": 6,
   "id": "3644b629-9aee-433a-ab42-c59a50ed5c31",
   "metadata": {},
   "outputs": [],
   "source": [
    "def create_vote(issue_id: str, user_id: str) -> bool:\n",
    "    issue_key = ISSUE_PREFIX + issue_id\n",
    "    vote_key = VOTE_PREFIX + issue_id + \":\" + user_id\n",
    "    expires_at = safe_redis_operation(r.hget, issue_key, \"expires_at\")\n",
    "    if not expires_at or time.time() > float(expires_at):\n",
    "        return False\n",
    "    if safe_redis_operation(r.exists, vote_key):\n",
    "        return False  # User already voted\n",
    "    safe_redis_operation(r.hincrby, issue_key + \":votes\", \"total_votes\", 1)\n",
    "    safe_redis_operation(r.set, vote_key, \"VOTED\")\n",
    "    return True"
   ]
  },
  {
   "cell_type": "markdown",
   "id": "01be0abb-4c7f-45dd-bcc0-5b8b438a7496",
   "metadata": {},
   "source": [
    "# Function to update (toggle) a vote"
   ]
  },
  {
   "cell_type": "code",
   "execution_count": 7,
   "id": "93c51f22-bc7b-491a-a7a0-9426fb862c7e",
   "metadata": {},
   "outputs": [],
   "source": [
    "def update_vote(issue_id: str, user_id: str) -> bool:\n",
    "    issue_key = ISSUE_PREFIX + issue_id\n",
    "    vote_key = VOTE_PREFIX + issue_id + \":\" + user_id\n",
    "    expires_at = safe_redis_operation(r.hget, issue_key, \"expires_at\")\n",
    "    if not expires_at or time.time() > float(expires_at):\n",
    "        return False\n",
    "    if safe_redis_operation(r.exists, vote_key):\n",
    "        safe_redis_operation(r.hincrby, issue_key + \":votes\", \"total_votes\", -1)\n",
    "        safe_redis_operation(r.delete, vote_key)\n",
    "        return False  # Vote removed\n",
    "    else:\n",
    "        safe_redis_operation(r.hincrby, issue_key + \":votes\", \"total_votes\", 1)\n",
    "        safe_redis_operation(r.set, vote_key, \"VOTED\")\n",
    "        return True  # Vote added"
   ]
  },
  {
   "cell_type": "markdown",
   "id": "4fb0abc6-aed6-49c4-b301-4fb8fb4536da",
   "metadata": {},
   "source": [
    "# Performance test for creating votes"
   ]
  },
  {
   "cell_type": "code",
   "execution_count": 8,
   "id": "4b6171cf-9f96-4a31-aa9b-79259cc7f5b0",
   "metadata": {},
   "outputs": [],
   "source": [
    "def performance_test_create_votes(issue_id: str, num_votes: int, max_workers: int):\n",
    "    start_time = time.time()\n",
    "    def vote_task(i):\n",
    "        user_id = f\"user_{i}\"\n",
    "        create_vote(issue_id, user_id)\n",
    "    with ThreadPoolExecutor(max_workers=max_workers) as executor:\n",
    "        list(tqdm(executor.map(vote_task, range(num_votes)), total=num_votes, desc=\"Creating votes\"))\n",
    "    elapsed = time.time() - start_time\n",
    "    rps = num_votes / elapsed\n",
    "    print(f\"Created {num_votes} votes in {elapsed:.2f} seconds (~{rps:.2f} RPS)\")"
   ]
  },
  {
   "cell_type": "markdown",
   "id": "44d1f22a-5b8a-4751-b345-82daed57a9f8",
   "metadata": {},
   "source": [
    "# Performance test for updating votes"
   ]
  },
  {
   "cell_type": "code",
   "execution_count": 9,
   "id": "b8f43003-00f9-409c-a4b7-5b986917ac09",
   "metadata": {},
   "outputs": [],
   "source": [
    "def performance_test_update_votes(issue_id: str, num_users: int, max_workers: int):\n",
    "    start_time = time.time()\n",
    "    def update_task(i):\n",
    "        user_id = f\"user_{i}\"\n",
    "        update_vote(issue_id, user_id)\n",
    "    with ThreadPoolExecutor(max_workers=max_workers) as executor:\n",
    "        list(tqdm(executor.map(update_task, range(num_users)), total=num_users, desc=\"Updating votes\"))\n",
    "    elapsed = time.time() - start_time\n",
    "    rps = num_users / elapsed\n",
    "    print(f\"Updated {num_users} votes in {elapsed:.2f} seconds (~{rps:.2f} RPS)\")"
   ]
  },
  {
   "cell_type": "markdown",
   "id": "9645a98d-17dc-4ade-9c39-3a54f3cfaec7",
   "metadata": {},
   "source": [
    "# Function to get vote results"
   ]
  },
  {
   "cell_type": "code",
   "execution_count": 10,
   "id": "e207325f-c87c-4e41-a788-816582051fc1",
   "metadata": {},
   "outputs": [],
   "source": [
    "def get_issue_results(issue_id: str) -> int:\n",
    "    issue_key = ISSUE_PREFIX + issue_id + \":votes\"\n",
    "    return int(safe_redis_operation(r.hget, issue_key, \"total_votes\") or 0)"
   ]
  },
  {
   "cell_type": "markdown",
   "id": "a1bc88ce-cd3f-4bd8-aae4-f1eee0a060dc",
   "metadata": {},
   "source": [
    "# Main execution"
   ]
  },
  {
   "cell_type": "code",
   "execution_count": 11,
   "id": "cc6ad925-81f2-451f-96dd-588f02eca60c",
   "metadata": {},
   "outputs": [
    {
     "name": "stdout",
     "output_type": "stream",
     "text": [
      "12\n",
      "Urban Issue created with ID: a8d4d057-b318-42f9-9512-1dfc581bb991\n",
      "\n",
      "Running performance test for creating votes...\n"
     ]
    },
    {
     "name": "stderr",
     "output_type": "stream",
     "text": [
      "Creating votes: 100%|███| 10000/10000 [05:07<00:00, 32.48it/s]\n"
     ]
    },
    {
     "name": "stdout",
     "output_type": "stream",
     "text": [
      "Created 10000 votes in 308.00 seconds (~32.47 RPS)\n",
      "\n",
      "Total votes for Urban Issue a8d4d057-b318-42f9-9512-1dfc581bb991: 10000\n",
      "\n",
      "Running performance test for updating votes...\n"
     ]
    },
    {
     "name": "stderr",
     "output_type": "stream",
     "text": [
      "Updating votes: 100%|███| 10000/10000 [05:08<00:00, 32.45it/s]"
     ]
    },
    {
     "name": "stdout",
     "output_type": "stream",
     "text": [
      "Updated 10000 votes in 308.22 seconds (~32.44 RPS)\n",
      "\n",
      "Total votes for Urban Issue a8d4d057-b318-42f9-9512-1dfc581bb991: 0\n"
     ]
    },
    {
     "name": "stderr",
     "output_type": "stream",
     "text": [
      "\n"
     ]
    }
   ],
   "source": [
    "CPU_CORES = multiprocessing.cpu_count()\n",
    "print(CPU_CORES)\n",
    "issue_id = create_urban_issue(\"Traffic Congestion\", \"Heavy traffic near downtown\", expires_in=9000000)\n",
    "print(f\"Urban Issue created with ID: {issue_id}\")\n",
    "\n",
    "# Performance test for creating votes\n",
    "print(\"\\nRunning performance test for creating votes...\")\n",
    "performance_test_create_votes(issue_id, num_votes=10000, max_workers=CPU_CORES)\n",
    "\n",
    "votes = get_issue_results(issue_id)\n",
    "print(f\"\\nTotal votes for Urban Issue {issue_id}: {votes}\")\n",
    "# Performance test for updating votes\n",
    "print(\"\\nRunning performance test for updating votes...\")\n",
    "performance_test_update_votes(issue_id, num_users=10000, max_workers=CPU_CORES)\n",
    "\n",
    "# Display final vote count\n",
    "votes = get_issue_results(issue_id)\n",
    "print(f\"\\nTotal votes for Urban Issue {issue_id}: {votes}\")"
   ]
  },
  {
   "cell_type": "code",
   "execution_count": null,
   "id": "4aa04cf5-2143-4838-8518-b182aceead7b",
   "metadata": {},
   "outputs": [],
   "source": []
  }
 ],
 "metadata": {
  "kernelspec": {
   "display_name": "Python 3 (ipykernel)",
   "language": "python",
   "name": "python3"
  },
  "language_info": {
   "codemirror_mode": {
    "name": "ipython",
    "version": 3
   },
   "file_extension": ".py",
   "mimetype": "text/x-python",
   "name": "python",
   "nbconvert_exporter": "python",
   "pygments_lexer": "ipython3",
   "version": "3.12.7"
  }
 },
 "nbformat": 4,
 "nbformat_minor": 5
}

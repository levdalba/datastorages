{
 "cells": [
  {
   "cell_type": "code",
   "execution_count": null,
   "id": "d1be037b-355d-42d5-be65-5f6ef9b7eaad",
   "metadata": {},
   "outputs": [],
   "source": []
  }
 ],
 "metadata": {
  "kernelspec": {
   "display_name": "",
   "name": ""
  },
  "language_info": {
   "name": ""
  }
 },
 "nbformat": 4,
 "nbformat_minor": 5
}

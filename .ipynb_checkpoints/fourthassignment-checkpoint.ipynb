{
 "cells": [
  {
   "cell_type": "markdown",
   "id": "3e14ee4f-4be0-445a-83a6-c58aa503b1ae",
   "metadata": {},
   "source": [
    "# Import Libraries!"
   ]
  },
  {
   "cell_type": "code",
   "execution_count": 1,
   "id": "1802752c-5944-44a1-aa0a-333809780723",
   "metadata": {},
   "outputs": [],
   "source": [
    "from sqlalchemy.orm import sessionmaker\n",
    "import snowflake.connector\n",
    "import redis\n",
    "import pandas as pd\n",
    "import matplotlib.pyplot as plt\n",
    "import os\n",
    "from sqlalchemy import create_engine, text\n",
    "from dotenv import load_dotenv\n",
    "from sqlalchemy import Column, Integer, String, Text, Float, TIMESTAMP\n",
    "from sqlalchemy.ext.declarative import declarative_base\n",
    "from snowflake.connector.pandas_tools import write_pandas\n"
   ]
  },
  {
   "cell_type": "markdown",
   "id": "138514af-ea6a-4493-b9b4-011fcc50013c",
   "metadata": {},
   "source": [
    "# Get environment variables"
   ]
  },
  {
   "cell_type": "code",
   "execution_count": 2,
   "id": "0f7dec08-0324-4ced-b2e3-2b4c4c7e935f",
   "metadata": {},
   "outputs": [],
   "source": [
    "load_dotenv()\n",
    "\n",
    "DATABASE_URL = os.getenv('DATABASE_URL')\n",
    "REDIS_HOST = os.getenv('REDIS_HOST')\n",
    "REDIS_PORT = int(os.getenv('REDIS_PORT'))\n",
    "REDIS_USERNAME = os.getenv('REDIS_USERNAME')\n",
    "REDIS_PASSWORD = os.getenv('REDIS_PASSWORD')\n",
    "SNOWFLAKE_USER = os.getenv('SNOWFLAKE_USER')\n",
    "SNOWFLAKE_PASSWORD = os.getenv('SNOWFLAKE_PASSWORD')\n",
    "SNOWFLAKE_ACCOUNT = os.getenv('SNOWFLAKE_ACCOUNT')\n",
    "SNOWFLAKE_WAREHOUSE = os.getenv('SNOWFLAKE_WAREHOUSE')\n",
    "SNOWFLAKE_DATABASE = os.getenv('SNOWFLAKE_DATABASE')\n",
    "SNOWFLAKE_SCHEMA = os.getenv('SNOWFLAKE_SCHEMA')"
   ]
  },
  {
   "cell_type": "markdown",
   "id": "3418e5e4-d8c3-4772-94bf-a52db66954b1",
   "metadata": {},
   "source": [
    "# OLTP setup"
   ]
  },
  {
   "cell_type": "code",
   "execution_count": 3,
   "id": "6d25872c-3987-4c7d-b07b-ae3e7984f635",
   "metadata": {},
   "outputs": [
    {
     "name": "stdout",
     "output_type": "stream",
     "text": [
      "Extracted issues:\n",
      "   issue_id  citizen_id                    description        category  \\\n",
      "0         2           2  Public park needs maintenance     Environment   \n",
      "1         4           1                        Issue 0  Infrastructure   \n",
      "2         5           1                        Issue 1  Infrastructure   \n",
      "3         6           1                        Issue 2  Infrastructure   \n",
      "4         7           1                        Issue 3  Infrastructure   \n",
      "\n",
      "   priority_level  latitude  longitude   status                 created_at  \n",
      "0               3   40.7138    -74.007  Pending 2025-03-04 07:24:24.420805  \n",
      "1               3   12.3400     56.780  Pending 2025-03-04 07:24:25.537125  \n",
      "2               3   12.3400     56.780  Pending 2025-03-04 07:24:26.113725  \n",
      "3               3   12.3400     56.780  Pending 2025-03-04 07:24:26.687319  \n",
      "4               3   12.3400     56.780  Pending 2025-03-04 07:24:27.261736  \n",
      "Extracted votes:\n",
      "   vote_id  citizen_id  issue_id  priority_vote                 created_at\n",
      "0        1           1         1              5 2025-03-04 07:24:24.716908\n",
      "1        2           2         2              4 2025-03-04 07:24:24.716923\n",
      "2        3           1         1              3 2025-03-04 07:24:31.671569\n",
      "3        4           1         1              3 2025-03-04 07:24:31.958568\n",
      "4        5           1         1              3 2025-03-04 07:24:32.244628\n"
     ]
    }
   ],
   "source": [
    "postgres_engine = create_engine(os.getenv(\"DATABASE_URL\"))\n",
    "with postgres_engine.connect() as conn:\n",
    "    df_issues = pd.read_sql(text(\"SELECT * FROM urbanpulse.issue\"), conn)\n",
    "    df_votes = pd.read_sql(text(\"SELECT * FROM urbanpulse.vote\"), conn)\n",
    "\n",
    "print(\"Extracted issues:\")\n",
    "print(df_issues.head())\n",
    "print(\"Extracted votes:\")\n",
    "print(df_votes.head())"
   ]
  },
  {
   "cell_type": "markdown",
   "id": "39c6f8bf-0a34-4610-b3a1-d796c0b1dc23",
   "metadata": {},
   "source": [
    "# Redis setup"
   ]
  },
  {
   "cell_type": "code",
   "execution_count": 4,
   "id": "8e357fc2-ee23-423e-991c-47472b3d55cc",
   "metadata": {},
   "outputs": [],
   "source": [
    "r = redis.Redis(\n",
    "    host=os.getenv(\"REDIS_HOST\"),\n",
    "    port=int(os.getenv(\"REDIS_PORT\")),\n",
    "    username=os.getenv(\"REDIS_USERNAME\"),\n",
    "    password=os.getenv(\"REDIS_PASSWORD\"),\n",
    "    decode_responses=True\n",
    ")"
   ]
  },
  {
   "cell_type": "markdown",
   "id": "0f9215d8-c661-4c67-9a31-e6d50a15e835",
   "metadata": {},
   "source": [
    "# Snowflake setup"
   ]
  },
  {
   "cell_type": "code",
   "execution_count": 5,
   "id": "9b5cc1fd-70c8-42e6-b808-07516f70b18b",
   "metadata": {},
   "outputs": [],
   "source": [
    "sf_conn = snowflake.connector.connect(\n",
    "    user=SNOWFLAKE_USER,\n",
    "    password=SNOWFLAKE_PASSWORD,\n",
    "    account=SNOWFLAKE_ACCOUNT,\n",
    "    warehouse=SNOWFLAKE_WAREHOUSE,\n",
    "    database=SNOWFLAKE_DATABASE,\n",
    "    schema=SNOWFLAKE_SCHEMA,\n",
    "    ocsp_fail_open=False\n",
    ")\n",
    "\n",
    "sf_cursor = sf_conn.cursor()"
   ]
  },
  {
   "cell_type": "code",
   "execution_count": 6,
   "id": "b0718969-f328-488f-a5df-d45bc59524ae",
   "metadata": {},
   "outputs": [],
   "source": [
    "# For demonstration, assume we have one urban issue and want to capture its vote count.\n",
    "issue_key = \"issue:\" + df_issues.iloc[0][\"issue_id\"].__str__()\n",
    "redis_votes = r.hget(issue_key + \":votes\", \"total_votes\")\n",
    "redis_votes = int(redis_votes) if redis_votes is not None else 0"
   ]
  },
  {
   "cell_type": "code",
   "execution_count": 7,
   "id": "ac203cb3-74ce-4b8e-96b9-6de62177b593",
   "metadata": {},
   "outputs": [
    {
     "name": "stdout",
     "output_type": "stream",
     "text": [
      "Extracted Redis votes:\n",
      "   issue_id  redis_votes\n",
      "0         2            0\n"
     ]
    }
   ],
   "source": [
    "# Create a DataFrame to hold Redis analytics data.\n",
    "df_redis = pd.DataFrame([{\"issue_id\": df_issues.iloc[0][\"issue_id\"], \"redis_votes\": redis_votes}])\n",
    "print(\"Extracted Redis votes:\")\n",
    "print(df_redis)"
   ]
  },
  {
   "cell_type": "code",
   "execution_count": 8,
   "id": "6e08a542-a4d9-400c-9710-eefe3863e0a5",
   "metadata": {},
   "outputs": [
    {
     "data": {
      "text/plain": [
       "<snowflake.connector.cursor.SnowflakeCursor at 0x1149c4c50>"
      ]
     },
     "execution_count": 8,
     "metadata": {},
     "output_type": "execute_result"
    }
   ],
   "source": [
    "# Create staging tables for issues and votes (if not exist)\n",
    "create_issues_table = f\"\"\"\n",
    "CREATE OR REPLACE TABLE issues_analytics (\n",
    "    issue_id NUMBER,\n",
    "    citizen_id NUMBER,\n",
    "    description TEXT,\n",
    "    category VARCHAR,\n",
    "    priority_level NUMBER,\n",
    "    latitude FLOAT,\n",
    "    longitude FLOAT,\n",
    "    status VARCHAR,\n",
    "    created_at TIMESTAMP\n",
    ")\n",
    "\"\"\"\n",
    "create_votes_table = f\"\"\"\n",
    "CREATE OR REPLACE TABLE votes_analytics (\n",
    "    vote_id NUMBER,\n",
    "    citizen_id NUMBER,\n",
    "    issue_id NUMBER,\n",
    "    priority_vote NUMBER,\n",
    "    created_at TIMESTAMP\n",
    ")\n",
    "\"\"\"\n",
    "\n",
    "sf_cursor.execute(\"USE DATABASE SF_SAMPLE;\")\n",
    "sf_cursor.execute(\"USE SCHEMA urbanpulse;\") \n",
    "\n",
    "sf_cursor.execute(create_issues_table)\n",
    "sf_cursor.execute(create_votes_table)"
   ]
  },
  {
   "cell_type": "code",
   "execution_count": 9,
   "id": "1f4fa882-d705-4843-9c1e-995207993a86",
   "metadata": {},
   "outputs": [
    {
     "data": {
      "text/plain": [
       "(True,\n",
       " 1,\n",
       " 1012,\n",
       " [('afiqehqeil/file0.txt',\n",
       "   'LOADED',\n",
       "   1012,\n",
       "   1012,\n",
       "   1,\n",
       "   0,\n",
       "   None,\n",
       "   None,\n",
       "   None,\n",
       "   None)])"
      ]
     },
     "execution_count": 9,
     "metadata": {},
     "output_type": "execute_result"
    }
   ],
   "source": [
    "# Load data from DataFrames into Snowflake tables using write_pandas\n",
    "write_pandas(sf_conn, df_issues, \"ISSUES_ANALYTICS\", quote_identifiers=False)\n",
    "write_pandas(sf_conn, df_votes, \"VOTES_ANALYTICS\", quote_identifiers=False)\n",
    "\n"
   ]
  },
  {
   "cell_type": "markdown",
   "id": "6ea4f21d-1b64-4d18-8924-93452f8504cf",
   "metadata": {},
   "source": [
    "# create table for redis"
   ]
  },
  {
   "cell_type": "code",
   "execution_count": 10,
   "id": "f21401b5-d22c-4a9c-a041-cc9859236102",
   "metadata": {},
   "outputs": [
    {
     "name": "stdout",
     "output_type": "stream",
     "text": [
      "Data loaded into Snowflake.\n"
     ]
    }
   ],
   "source": [
    "create_redis_votes_table = f\"\"\"\n",
    "CREATE OR REPLACE TABLE redis_votes_analytics (\n",
    "    issue_id NUMBER,\n",
    "    redis_votes NUMBER\n",
    ")\n",
    "\"\"\"\n",
    "sf_cursor.execute(create_redis_votes_table)\n",
    "write_pandas(sf_conn, df_redis, \"REDIS_VOTES_ANALYTICS\", quote_identifiers=False)\n",
    "\n",
    "sf_conn.commit()\n",
    "print(\"Data loaded into Snowflake.\")\n"
   ]
  },
  {
   "cell_type": "code",
   "execution_count": 11,
   "id": "9a40cf8c-275b-455d-a3a9-27933e8d067e",
   "metadata": {},
   "outputs": [
    {
     "name": "stdout",
     "output_type": "stream",
     "text": [
      "Analytical data mart (view) created.\n"
     ]
    }
   ],
   "source": [
    "create_data_mart = f\"\"\"\n",
    "CREATE OR REPLACE VIEW issues_summary AS\n",
    "SELECT \n",
    "    i.issue_id,\n",
    "    i.description,\n",
    "    i.category,\n",
    "    i.priority_level,\n",
    "    i.status,\n",
    "    COUNT(v.vote_id) AS total_votes_sql,\n",
    "    COALESCE(r.redis_votes, 0) AS total_votes_redis,\n",
    "    COUNT(v.vote_id) + COALESCE(r.redis_votes, 0) AS overall_votes\n",
    "FROM issues_analytics i\n",
    "LEFT JOIN votes_analytics v ON i.issue_id = v.issue_id\n",
    "LEFT JOIN redis_votes_analytics r ON i.issue_id = r.issue_id\n",
    "GROUP BY i.issue_id, i.description, i.category, i.priority_level, i.status, r.redis_votes\n",
    "ORDER BY overall_votes DESC\n",
    "\"\"\"\n",
    "sf_cursor.execute(create_data_mart)\n",
    "sf_conn.commit()\n",
    "print(\"Analytical data mart (view) created.\")\n"
   ]
  },
  {
   "cell_type": "code",
   "execution_count": 12,
   "id": "1af923c2-ba35-4a63-9636-8d7acb47ab63",
   "metadata": {},
   "outputs": [
    {
     "name": "stderr",
     "output_type": "stream",
     "text": [
      "/var/folders/q3/y9cmlg4s4xs988k0ck20g8cc0000gn/T/ipykernel_14193/3971034889.py:1: UserWarning: pandas only supports SQLAlchemy connectable (engine/connection) or database string URI or sqlite3 DBAPI2 connection. Other DBAPI2 objects are not tested. Please consider using SQLAlchemy.\n",
      "  df_summary = pd.read_sql(\"SELECT * FROM issues_summary\", sf_conn)\n"
     ]
    },
    {
     "name": "stdout",
     "output_type": "stream",
     "text": [
      "Analytics - Issues Summary:\n",
      "      ISSUE_ID                    DESCRIPTION        CATEGORY  PRIORITY_LEVEL  \\\n",
      "0            1            Broken streetlights  Infrastructure               2   \n",
      "1            2  Public park needs maintenance     Environment               3   \n",
      "2           28                       Issue 12  Infrastructure               3   \n",
      "3           30                       Issue 14  Infrastructure               3   \n",
      "4           27                       Issue 11  Infrastructure               3   \n",
      "...        ...                            ...             ...             ...   \n",
      "1009       700                      Issue 684  Infrastructure               3   \n",
      "1010       439                      Issue 423  Infrastructure               3   \n",
      "1011       778                      Issue 762  Infrastructure               3   \n",
      "1012       826                      Issue 810  Infrastructure               3   \n",
      "1013       619                      Issue 603  Infrastructure               3   \n",
      "\n",
      "         STATUS  TOTAL_VOTES_SQL  TOTAL_VOTES_REDIS  OVERALL_VOTES  \n",
      "0     Completed             1011                  0           1011  \n",
      "1       Pending                1                  0              1  \n",
      "2       Pending                0                  0              0  \n",
      "3       Pending                0                  0              0  \n",
      "4       Pending                0                  0              0  \n",
      "...         ...              ...                ...            ...  \n",
      "1009    Pending                0                  0              0  \n",
      "1010    Pending                0                  0              0  \n",
      "1011    Pending                0                  0              0  \n",
      "1012    Pending                0                  0              0  \n",
      "1013    Pending                0                  0              0  \n",
      "\n",
      "[1014 rows x 8 columns]\n"
     ]
    },
    {
     "data": {
      "image/png": "[encoded data removed]",
      "text/plain": [
       "<Figure size 800x400 with 1 Axes>"
      ]
     },
     "metadata": {},
     "output_type": "display_data"
    }
   ],
   "source": [
    "df_summary = pd.read_sql(\"SELECT * FROM issues_summary\", sf_conn)\n",
    "print(\"Analytics - Issues Summary:\")\n",
    "print(df_summary)\n",
    "\n",
    "# Create a bar chart for overall votes per issue\n",
    "plt.figure(figsize=(8, 4))\n",
    "plt.bar(df_summary['ISSUE_ID'].astype(str), df_summary['OVERALL_VOTES'], color='skyblue')\n",
    "plt.xlabel('Issue ID')\n",
    "plt.ylabel('Total Votes')\n",
    "plt.title('Total Votes per Issue')\n",
    "plt.show()"
   ]
  },
  {
   "cell_type": "code",
   "execution_count": 13,
   "id": "7d065948-f6ff-4753-af6c-6d3d4de2acca",
   "metadata": {},
   "outputs": [
    {
     "name": "stdout",
     "output_type": "stream",
     "text": [
      "Index(['issue_id', 'citizen_id', 'description', 'category', 'priority_level',\n",
      "       'latitude', 'longitude', 'status', 'created_at'],\n",
      "      dtype='object')\n"
     ]
    }
   ],
   "source": [
    "print(df_issues.columns)\n"
   ]
  },
  {
   "cell_type": "code",
   "execution_count": 14,
   "id": "21d0d5a7-240a-49b8-bb48-594589b41c1f",
   "metadata": {},
   "outputs": [
    {
     "name": "stdout",
     "output_type": "stream",
     "text": [
      "Issue 2 status updated to 'Completed'.\n"
     ]
    }
   ],
   "source": [
    "# Simulate business change: Update status of one issue in PostgreSQL\n",
    "with postgres_engine.connect() as conn:\n",
    "    update_status_query = text(\"UPDATE urbanpulse.issue SET status = 'Completed' WHERE issue_id = :issue_id\")\n",
    "\n",
    "    issue_id = int(df_issues.iloc[0][\"issue_id\"])  # Convert to Python int\n",
    "\n",
    "    conn.execute(update_status_query, {\"issue_id\": issue_id})  \n",
    "    conn.commit()\n",
    "\n",
    "\n",
    "print(f\"Issue {df_issues.iloc[0]['issue_id']} status updated to 'Completed'.\")\n",
    "\n",
    "# Re-extract the changed issue data\n",
    "with postgres_engine.connect() as conn:\n",
    "    df_issues_updated = pd.read_sql(text(\"SELECT * FROM urbanpulse.issue\"), conn)\n",
    "\n",
    "# Reload updated issues data into Snowflake (overwrite the staging table)\n",
    "write_pandas(sf_conn, df_issues_updated, \"ISSUES_ANALYTICS\", quote_identifiers=False)\n",
    "\n",
    "# Re-create or refresh the analytical view\n",
    "sf_cursor.execute(create_data_mart)\n",
    "sf_conn.commit()"
   ]
  },
  {
   "cell_type": "code",
   "execution_count": 15,
   "id": "f39e4560-6423-42c5-bb4d-d40c11db4c6b",
   "metadata": {},
   "outputs": [
    {
     "name": "stderr",
     "output_type": "stream",
     "text": [
      "/var/folders/q3/y9cmlg4s4xs988k0ck20g8cc0000gn/T/ipykernel_14193/1178498516.py:6: UserWarning: pandas only supports SQLAlchemy connectable (engine/connection) or database string URI or sqlite3 DBAPI2 connection. Other DBAPI2 objects are not tested. Please consider using SQLAlchemy.\n",
      "  df_summary_updated = pd.read_sql(\"SELECT * FROM issues_summary\", sf_conn)\n"
     ]
    },
    {
     "name": "stdout",
     "output_type": "stream",
     "text": [
      "Updated Analytics - Issues Summary:\n",
      "      ISSUE_ID                    DESCRIPTION        CATEGORY  PRIORITY_LEVEL  \\\n",
      "0            1            Broken streetlights  Infrastructure               2   \n",
      "1            2  Public park needs maintenance     Environment               3   \n",
      "2            2  Public park needs maintenance     Environment               3   \n",
      "3           28                       Issue 12  Infrastructure               3   \n",
      "4           26                       Issue 10  Infrastructure               3   \n",
      "...        ...                            ...             ...             ...   \n",
      "1010       439                      Issue 423  Infrastructure               3   \n",
      "1011       778                      Issue 762  Infrastructure               3   \n",
      "1012       826                      Issue 810  Infrastructure               3   \n",
      "1013       619                      Issue 603  Infrastructure               3   \n",
      "1014       691                      Issue 675  Infrastructure               3   \n",
      "\n",
      "         STATUS  TOTAL_VOTES_SQL  TOTAL_VOTES_REDIS  OVERALL_VOTES  \n",
      "0     Completed             2022                  0           2022  \n",
      "1     Completed                1                  0              1  \n",
      "2       Pending                1                  0              1  \n",
      "3       Pending                0                  0              0  \n",
      "4       Pending                0                  0              0  \n",
      "...         ...              ...                ...            ...  \n",
      "1010    Pending                0                  0              0  \n",
      "1011    Pending                0                  0              0  \n",
      "1012    Pending                0                  0              0  \n",
      "1013    Pending                0                  0              0  \n",
      "1014    Pending                0                  0              0  \n",
      "\n",
      "[1015 rows x 8 columns]\n"
     ]
    },
    {
     "data": {
      "image/png": "[encoded data removed]",
      "text/plain": [
       "<Figure size 800x400 with 1 Axes>"
      ]
     },
     "metadata": {},
     "output_type": "display_data"
    }
   ],
   "source": [
    "# ### 5.3 – Show Updated Analytics\n",
    "#\n",
    "# Query the refreshed view and show the updated chart.\n",
    "\n",
    "# %% [code]\n",
    "df_summary_updated = pd.read_sql(\"SELECT * FROM issues_summary\", sf_conn)\n",
    "print(\"Updated Analytics - Issues Summary:\")\n",
    "print(df_summary_updated)\n",
    "\n",
    "# Create a bar chart for overall votes per issue after change\n",
    "plt.figure(figsize=(8, 4))\n",
    "# plt.bar(df_summary_updated['issue_id'].astype(str), df_summary_updated['overall_votes'], color='salmon')\n",
    "plt.bar(df_summary_updated['ISSUE_ID'].astype(str), df_summary_updated['OVERALL_VOTES'], color='salmon')\n",
    "\n",
    "plt.xlabel('Issue ID')\n",
    "plt.ylabel('Total Votes')\n",
    "plt.title('Total Votes per Issue (Updated)')\n",
    "plt.show()\n",
    "\n",
    "# Close Snowflake connection\n",
    "sf_cursor.close()\n",
    "sf_conn.close()"
   ]
  },
  {
   "cell_type": "code",
   "execution_count": null,
   "id": "adfeb155-e50b-44eb-879c-4e2ce36a24c3",
   "metadata": {},
   "outputs": [],
   "source": []
  }
 ],
 "metadata": {
  "kernelspec": {
   "display_name": "Python 3 (ipykernel)",
   "language": "python",
   "name": "python3"
  },
  "language_info": {
   "codemirror_mode": {
    "name": "ipython",
    "version": 3
   },
   "file_extension": ".py",
   "mimetype": "text/x-python",
   "name": "python",
   "nbconvert_exporter": "python",
   "pygments_lexer": "ipython3",
   "version": "3.12.7"
  }
 },
 "nbformat": 4,
 "nbformat_minor": 5
}

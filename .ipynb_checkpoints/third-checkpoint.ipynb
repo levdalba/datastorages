{
 "cells": [
  {
   "cell_type": "code",
   "execution_count": 1,
   "id": "afab9bcf-fcd4-4ebc-b82f-37ca2915ba5f",
   "metadata": {},
   "outputs": [],
   "source": [
    "import sqlalchemy\n",
    "from sqlalchemy.orm import declarative_base\n",
    "from sqlalchemy import create_engine\n",
    "from sqlalchemy import Column, Integer, String\n",
    "from sqlalchemy.orm import sessionmaker\n",
    "import sqlite3, random, timeit\n",
    "from timeit import default_timer as timer\n",
    "from datetime import timedelta\n"
   ]
  },
  {
   "cell_type": "code",
   "execution_count": 2,
   "id": "6bab4816-1d2c-4d01-bc16-b12a8abe5712",
   "metadata": {},
   "outputs": [],
   "source": [
    "engine = create_engine('sqlite:////tmp/alch_db.sqlite', echo=True)"
   ]
  },
  {
   "cell_type": "code",
   "execution_count": 3,
   "id": "2bb35869-bf54-4a8b-88da-aa01327f58eb",
   "metadata": {},
   "outputs": [],
   "source": [
    "Base = declarative_base()"
   ]
  },
  {
   "cell_type": "code",
   "execution_count": 4,
   "id": "ba55f3e2-4bae-4b4c-ab80-6ecec0befc3f",
   "metadata": {},
   "outputs": [],
   "source": [
    "from sqlalchemy import Column, Integer, String\n",
    "class User(Base):\n",
    "    __tablename__ = 'user'\n",
    "    \n",
    "    id = Column(Integer, primary_key=True)\n",
    "    name = Column(String)\n",
    "    fullname = Column(String)\n",
    "    password = Column(String)\n",
    "    # __table_args__ = {'schema': 'bookmaker'}\n",
    "    \n",
    "    # Defines to_string() representation \n",
    "    def __repr__(self):\n",
    "        return \"<User(name='%s', fullname='%s', password='%s')>\" % (\n",
    "                self.name, self.fullname, self.password)\n"
   ]
  },
  {
   "cell_type": "code",
   "execution_count": 5,
   "id": "0a5fc0e7-feee-406a-afdf-de70c7d519d8",
   "metadata": {},
   "outputs": [
    {
     "name": "stdout",
     "output_type": "stream",
     "text": [
      "2025-02-26 11:55:25,352 INFO sqlalchemy.engine.Engine BEGIN (implicit)\n",
      "2025-02-26 11:55:25,353 INFO sqlalchemy.engine.Engine PRAGMA main.table_info(\"user\")\n",
      "2025-02-26 11:55:25,353 INFO sqlalchemy.engine.Engine [raw sql] ()\n",
      "2025-02-26 11:55:25,355 INFO sqlalchemy.engine.Engine COMMIT\n"
     ]
    }
   ],
   "source": [
    "Base.metadata.create_all(engine)"
   ]
  },
  {
   "cell_type": "code",
   "execution_count": 22,
   "id": "aafd7aa3-12d6-428e-a735-dfb82a66ff40",
   "metadata": {},
   "outputs": [],
   "source": [
    "Session = sessionmaker(bind=engine)\n",
    "session = Session()"
   ]
  },
  {
   "cell_type": "code",
   "execution_count": 23,
   "id": "fa6bf6a4-d2b5-49e5-a4d1-b149f912d75d",
   "metadata": {},
   "outputs": [
    {
     "data": {
      "text/plain": [
       "<User(name='ed1', fullname='Ed Jones1', password='edspassword1')>"
      ]
     },
     "execution_count": 23,
     "metadata": {},
     "output_type": "execute_result"
    }
   ],
   "source": [
    "ed_user = User(name='ed1', fullname='Ed Jones1', password='edspassword1')\n",
    "session.add(ed_user)\n",
    "ed_user"
   ]
  },
  {
   "cell_type": "code",
   "execution_count": 24,
   "id": "8823acb4-8d8e-441c-a4b3-16d1773f7af5",
   "metadata": {},
   "outputs": [
    {
     "name": "stdout",
     "output_type": "stream",
     "text": [
      "2025-02-26 11:44:46,837 INFO sqlalchemy.engine.Engine BEGIN (implicit)\n",
      "2025-02-26 11:44:46,840 INFO sqlalchemy.engine.Engine INSERT INTO user (name, fullname, password) VALUES (?, ?, ?)\n",
      "2025-02-26 11:44:46,841 INFO sqlalchemy.engine.Engine [generated in 0.00099s] ('ed1', 'Ed Jones1', 'edspassword1')\n",
      "2025-02-26 11:44:46,842 INFO sqlalchemy.engine.Engine COMMIT\n"
     ]
    }
   ],
   "source": [
    "session.commit()"
   ]
  },
  {
   "cell_type": "code",
   "execution_count": 8,
   "id": "20b5580b-f827-4a8b-98a3-e0489538c0f6",
   "metadata": {},
   "outputs": [
    {
     "name": "stdout",
     "output_type": "stream",
     "text": [
      "(1, 'ed1', 'Ed Jones1', 'edspassword1')\n",
      "(2, 'ed1', 'Ed Jones1', 'edspassword1')\n",
      "(3, 'ed1', 'Ed Jones1', 'edspassword1')\n",
      "(4, 'ed1', 'Ed Jones1', 'edspassword1')\n",
      "(5, 'ed1', 'Ed Jones1', 'edspassword1')\n",
      "(6, 'ed1', 'Ed Jones1', 'f8s7ccs')\n",
      "(7, 'wendy', 'Wendy Williams', 'foobar')\n",
      "(8, 'mary', 'Mary Contrary', 'xxg527')\n",
      "(9, 'fred', 'Fred Flinstone', 'blah')\n",
      "(10, 'wendy', 'Wendy Williams', 'foobar')\n",
      "(11, 'mary', 'Mary Contrary', 'xxg527')\n",
      "(12, 'fred', 'Fred Flinstone', 'blah')\n",
      "(13, 'wendy', 'Wendy Williams', 'foobar')\n",
      "(14, 'mary', 'Mary Contrary', 'xxg527')\n",
      "(15, 'fred', 'Fred Flinstone', 'blah')\n",
      "(16, 'XXX', 'Wendy Williams', 'foobar')\n",
      "(17, 'YYY', 'Mary Contrary', 'xxg527')\n",
      "(18, 'ed1', 'Ed Jones1', 'f8s7ccs')\n",
      "(19, 'wendy', 'Wendy Williams', 'foobar')\n",
      "(20, 'mary', 'Mary Contrary', 'xxg527')\n",
      "(21, 'fred', 'Fred Flinstone', 'blah')\n",
      "(22, 'wendy', 'Wendy Williams', 'foobar')\n",
      "(23, 'mary', 'Mary Contrary', 'xxg527')\n",
      "(24, 'fred', 'Fred Flinstone', 'blah')\n",
      "(25, 'XXX', 'Wendy Williams', 'foobar')\n",
      "(26, 'YYY', 'Mary Contrary', 'xxg527')\n"
     ]
    }
   ],
   "source": [
    "conn = sqlite3.connect('/tmp/alch_db.sqlite',isolation_level=None)\n",
    "us = conn.execute(\"select * from user\").fetchall()\n",
    "for u in us:\n",
    "    print(u)"
   ]
  },
  {
   "cell_type": "code",
   "execution_count": 9,
   "id": "d90dcaf5-3fee-4e15-b6e2-e3ec070be7e1",
   "metadata": {},
   "outputs": [
    {
     "ename": "NameError",
     "evalue": "name 'session' is not defined",
     "output_type": "error",
     "traceback": [
      "\u001b[0;31m---------------------------------------------------------------------------\u001b[0m",
      "\u001b[0;31mNameError\u001b[0m                                 Traceback (most recent call last)",
      "Cell \u001b[0;32mIn[9], line 1\u001b[0m\n\u001b[0;32m----> 1\u001b[0m our_user \u001b[38;5;241m=\u001b[39m \u001b[43msession\u001b[49m\u001b[38;5;241m.\u001b[39mquery(User)\u001b[38;5;241m.\u001b[39mfilter_by(name\u001b[38;5;241m=\u001b[39m\u001b[38;5;124m'\u001b[39m\u001b[38;5;124med\u001b[39m\u001b[38;5;124m'\u001b[39m)\u001b[38;5;241m.\u001b[39mfirst()\n\u001b[1;32m      2\u001b[0m ed_user\u001b[38;5;241m.\u001b[39mpassword \u001b[38;5;241m=\u001b[39m \u001b[38;5;124m'\u001b[39m\u001b[38;5;124mf8s7ccs\u001b[39m\u001b[38;5;124m'\u001b[39m\n\u001b[1;32m      3\u001b[0m session\u001b[38;5;241m.\u001b[39mcommit()\n",
      "\u001b[0;31mNameError\u001b[0m: name 'session' is not defined"
     ]
    }
   ],
   "source": [
    "our_user = session.query(User).filter_by(name='ed').first()\n",
    "ed_user.password = 'f8s7ccs'\n",
    "session.commit()"
   ]
  },
  {
   "cell_type": "code",
   "execution_count": 10,
   "id": "d3298686-639e-490a-bf8c-2ae49ca60b73",
   "metadata": {},
   "outputs": [
    {
     "ename": "NameError",
     "evalue": "name 'session' is not defined",
     "output_type": "error",
     "traceback": [
      "\u001b[0;31m---------------------------------------------------------------------------\u001b[0m",
      "\u001b[0;31mNameError\u001b[0m                                 Traceback (most recent call last)",
      "Cell \u001b[0;32mIn[10], line 1\u001b[0m\n\u001b[0;32m----> 1\u001b[0m \u001b[43msession\u001b[49m\u001b[38;5;241m.\u001b[39madd_all([\n\u001b[1;32m      2\u001b[0m         User(name\u001b[38;5;241m=\u001b[39m\u001b[38;5;124m'\u001b[39m\u001b[38;5;124mwendy\u001b[39m\u001b[38;5;124m'\u001b[39m, fullname\u001b[38;5;241m=\u001b[39m\u001b[38;5;124m'\u001b[39m\u001b[38;5;124mWendy Williams\u001b[39m\u001b[38;5;124m'\u001b[39m, password\u001b[38;5;241m=\u001b[39m\u001b[38;5;124m'\u001b[39m\u001b[38;5;124mfoobar\u001b[39m\u001b[38;5;124m'\u001b[39m),\n\u001b[1;32m      3\u001b[0m         User(name\u001b[38;5;241m=\u001b[39m\u001b[38;5;124m'\u001b[39m\u001b[38;5;124mmary\u001b[39m\u001b[38;5;124m'\u001b[39m, fullname\u001b[38;5;241m=\u001b[39m\u001b[38;5;124m'\u001b[39m\u001b[38;5;124mMary Contrary\u001b[39m\u001b[38;5;124m'\u001b[39m, password\u001b[38;5;241m=\u001b[39m\u001b[38;5;124m'\u001b[39m\u001b[38;5;124mxxg527\u001b[39m\u001b[38;5;124m'\u001b[39m),\n\u001b[1;32m      4\u001b[0m         User(name\u001b[38;5;241m=\u001b[39m\u001b[38;5;124m'\u001b[39m\u001b[38;5;124mfred\u001b[39m\u001b[38;5;124m'\u001b[39m, fullname\u001b[38;5;241m=\u001b[39m\u001b[38;5;124m'\u001b[39m\u001b[38;5;124mFred Flinstone\u001b[39m\u001b[38;5;124m'\u001b[39m, password\u001b[38;5;241m=\u001b[39m\u001b[38;5;124m'\u001b[39m\u001b[38;5;124mblah\u001b[39m\u001b[38;5;124m'\u001b[39m)])\n\u001b[1;32m      6\u001b[0m session\u001b[38;5;241m.\u001b[39mcommit()\n",
      "\u001b[0;31mNameError\u001b[0m: name 'session' is not defined"
     ]
    }
   ],
   "source": [
    "session.add_all([\n",
    "        User(name='wendy', fullname='Wendy Williams', password='foobar'),\n",
    "        User(name='mary', fullname='Mary Contrary', password='xxg527'),\n",
    "        User(name='fred', fullname='Fred Flinstone', password='blah')])\n",
    "\n",
    "session.commit()"
   ]
  },
  {
   "cell_type": "code",
   "execution_count": 11,
   "id": "ef3dc554-e752-42e0-9d35-8ad765c44ac9",
   "metadata": {},
   "outputs": [
    {
     "ename": "NameError",
     "evalue": "name 'session' is not defined",
     "output_type": "error",
     "traceback": [
      "\u001b[0;31m---------------------------------------------------------------------------\u001b[0m",
      "\u001b[0;31mNameError\u001b[0m                                 Traceback (most recent call last)",
      "Cell \u001b[0;32mIn[11], line 1\u001b[0m\n\u001b[0;32m----> 1\u001b[0m \u001b[43msession\u001b[49m\u001b[38;5;241m.\u001b[39madd_all([\n\u001b[1;32m      2\u001b[0m         User(name\u001b[38;5;241m=\u001b[39m\u001b[38;5;124m'\u001b[39m\u001b[38;5;124mwendy\u001b[39m\u001b[38;5;124m'\u001b[39m, fullname\u001b[38;5;241m=\u001b[39m\u001b[38;5;124m'\u001b[39m\u001b[38;5;124mWendy Williams\u001b[39m\u001b[38;5;124m'\u001b[39m, password\u001b[38;5;241m=\u001b[39m\u001b[38;5;124m'\u001b[39m\u001b[38;5;124mfoobar\u001b[39m\u001b[38;5;124m'\u001b[39m),\n\u001b[1;32m      3\u001b[0m         User(name\u001b[38;5;241m=\u001b[39m\u001b[38;5;124m'\u001b[39m\u001b[38;5;124mmary\u001b[39m\u001b[38;5;124m'\u001b[39m, fullname\u001b[38;5;241m=\u001b[39m\u001b[38;5;124m'\u001b[39m\u001b[38;5;124mMary Contrary\u001b[39m\u001b[38;5;124m'\u001b[39m, password\u001b[38;5;241m=\u001b[39m\u001b[38;5;124m'\u001b[39m\u001b[38;5;124mxxg527\u001b[39m\u001b[38;5;124m'\u001b[39m),\n\u001b[1;32m      4\u001b[0m         User(name\u001b[38;5;241m=\u001b[39m\u001b[38;5;124m'\u001b[39m\u001b[38;5;124mfred\u001b[39m\u001b[38;5;124m'\u001b[39m, fullname\u001b[38;5;241m=\u001b[39m\u001b[38;5;124m'\u001b[39m\u001b[38;5;124mFred Flinstone\u001b[39m\u001b[38;5;124m'\u001b[39m, password\u001b[38;5;241m=\u001b[39m\u001b[38;5;124m'\u001b[39m\u001b[38;5;124mblah\u001b[39m\u001b[38;5;124m'\u001b[39m)])\n\u001b[1;32m      7\u001b[0m session\u001b[38;5;241m.\u001b[39madd_all([\n\u001b[1;32m      8\u001b[0m         User(name\u001b[38;5;241m=\u001b[39m\u001b[38;5;124m'\u001b[39m\u001b[38;5;124mXXX\u001b[39m\u001b[38;5;124m'\u001b[39m, fullname\u001b[38;5;241m=\u001b[39m\u001b[38;5;124m'\u001b[39m\u001b[38;5;124mWendy Williams\u001b[39m\u001b[38;5;124m'\u001b[39m, password\u001b[38;5;241m=\u001b[39m\u001b[38;5;124m'\u001b[39m\u001b[38;5;124mfoobar\u001b[39m\u001b[38;5;124m'\u001b[39m),\n\u001b[1;32m      9\u001b[0m         User(name\u001b[38;5;241m=\u001b[39m\u001b[38;5;124m'\u001b[39m\u001b[38;5;124mYYY\u001b[39m\u001b[38;5;124m'\u001b[39m, fullname\u001b[38;5;241m=\u001b[39m\u001b[38;5;124m'\u001b[39m\u001b[38;5;124mMary Contrary\u001b[39m\u001b[38;5;124m'\u001b[39m, password\u001b[38;5;241m=\u001b[39m\u001b[38;5;124m'\u001b[39m\u001b[38;5;124mxxg527\u001b[39m\u001b[38;5;124m'\u001b[39m)])\n\u001b[1;32m     11\u001b[0m session\u001b[38;5;241m.\u001b[39mcommit()\n",
      "\u001b[0;31mNameError\u001b[0m: name 'session' is not defined"
     ]
    }
   ],
   "source": [
    "session.add_all([\n",
    "        User(name='wendy', fullname='Wendy Williams', password='foobar'),\n",
    "        User(name='mary', fullname='Mary Contrary', password='xxg527'),\n",
    "        User(name='fred', fullname='Fred Flinstone', password='blah')])\n",
    "\n",
    "\n",
    "session.add_all([\n",
    "        User(name='XXX', fullname='Wendy Williams', password='foobar'),\n",
    "        User(name='YYY', fullname='Mary Contrary', password='xxg527')])\n",
    "\n",
    "session.commit()\n"
   ]
  },
  {
   "cell_type": "code",
   "execution_count": 12,
   "id": "64001bd3-ae5a-4410-ba18-e7c9b57ce09b",
   "metadata": {},
   "outputs": [
    {
     "ename": "OperationalError",
     "evalue": "table Customer already exists",
     "output_type": "error",
     "traceback": [
      "\u001b[0;31m---------------------------------------------------------------------------\u001b[0m",
      "\u001b[0;31mOperationalError\u001b[0m                          Traceback (most recent call last)",
      "Cell \u001b[0;32mIn[12], line 7\u001b[0m\n\u001b[1;32m      1\u001b[0m \u001b[38;5;66;03m# import sqlite3, random, timeit\u001b[39;00m\n\u001b[1;32m      2\u001b[0m \u001b[38;5;66;03m# from timeit import default_timer as timer\u001b[39;00m\n\u001b[1;32m      3\u001b[0m \u001b[38;5;66;03m# from datetime import timedelta\u001b[39;00m\n\u001b[1;32m      4\u001b[0m \u001b[38;5;66;03m# conn = sqlite3.connect('/tmp/db.sqlite')\u001b[39;00m\n\u001b[0;32m----> 7\u001b[0m \u001b[43mconn\u001b[49m\u001b[38;5;241;43m.\u001b[39;49m\u001b[43mexecute\u001b[49m\u001b[43m(\u001b[49m\u001b[38;5;124;43m\"\"\"\u001b[39;49m\u001b[38;5;124;43mCREATE TABLE Customer(\u001b[39;49m\n\u001b[1;32m      8\u001b[0m \u001b[38;5;124;43m\tCustomerID int,\u001b[39;49m\n\u001b[1;32m      9\u001b[0m \u001b[38;5;124;43m\tName varchar,\u001b[39;49m\n\u001b[1;32m     10\u001b[0m \u001b[38;5;124;43m\tType varchar,\u001b[39;49m\n\u001b[1;32m     11\u001b[0m \u001b[38;5;124;43m\tBalance int \u001b[39;49m\n\u001b[1;32m     12\u001b[0m \u001b[38;5;124;43m);\u001b[39;49m\u001b[38;5;124;43m\"\"\"\u001b[39;49m\u001b[43m)\u001b[49m;\n\u001b[1;32m     14\u001b[0m custs \u001b[38;5;241m=\u001b[39m conn\u001b[38;5;241m.\u001b[39mexecute(\u001b[38;5;124m\"\u001b[39m\u001b[38;5;124mselect * from customer\u001b[39m\u001b[38;5;124m\"\u001b[39m)\u001b[38;5;241m.\u001b[39mfetchall()\n\u001b[1;32m     15\u001b[0m \u001b[38;5;28;01mfor\u001b[39;00m c \u001b[38;5;129;01min\u001b[39;00m custs:\n",
      "\u001b[0;31mOperationalError\u001b[0m: table Customer already exists"
     ]
    }
   ],
   "source": [
    "# import sqlite3, random, timeit\n",
    "# from timeit import default_timer as timer\n",
    "# from datetime import timedelta\n",
    "# conn = sqlite3.connect('/tmp/db.sqlite')\n",
    "\n",
    "\n",
    "conn.execute(\"\"\"CREATE TABLE Customer(\n",
    "\tCustomerID int,\n",
    "\tName varchar,\n",
    "\tType varchar,\n",
    "\tBalance int \n",
    ");\"\"\");\n",
    "\n",
    "custs = conn.execute(\"select * from customer\").fetchall()\n",
    "for c in custs:\n",
    "    print(c)\n"
   ]
  },
  {
   "cell_type": "code",
   "execution_count": 13,
   "id": "db170244-e3b1-4649-92d2-d3e86c7050cb",
   "metadata": {},
   "outputs": [
    {
     "name": "stdout",
     "output_type": "stream",
     "text": [
      "(0,)\n",
      "(1,)\n",
      "(1,)\n"
     ]
    }
   ],
   "source": [
    "conn = sqlite3.connect('/tmp/db.sqlite')\n",
    "conn.execute(\"\"\"CREATE TABLE Customer(\n",
    "\tCustomerID int,\n",
    "\tName varchar,\n",
    "\tType varchar,\n",
    "\tBalance int \n",
    ");\"\"\");\n",
    "conn.commit()\n",
    "print(conn.execute(\"select count(*) from customer\").fetchone())\n",
    "conn.execute(\"\"\"INSERT INTO Customer(CustomerID,Name,Type,Balance) VALUES(1,'Mike','Person', 10);\"\"\")\n",
    "print(conn.execute(\"select count(*) from customer\").fetchone())\n",
    "conn.commit()\n",
    "print(conn.execute(\"select count(*) from customer\").fetchone())\n",
    "\n"
   ]
  },
  {
   "cell_type": "code",
   "execution_count": 15,
   "id": "d10919be-e695-4ec9-86e4-0e6190ed75ef",
   "metadata": {},
   "outputs": [
    {
     "name": "stdout",
     "output_type": "stream",
     "text": [
      "(0,)\n",
      "(1,)\n",
      "(1,)\n"
     ]
    }
   ],
   "source": [
    "\n",
    "\n",
    "print(conn.execute(\"select count(*) from customer\").fetchone())\n",
    "conn.execute(\"\"\"INSERT INTO Customer(CustomerID,Name,Type,Balance) VALUES(1,'Mike','Person', 10);\"\"\")\n",
    "print(conn.execute(\"select count(*) from customer\").fetchone())\n",
    "conn.commit()\n",
    "print(conn.execute(\"select count(*) from customer\").fetchone())\n"
   ]
  },
  {
   "cell_type": "code",
   "execution_count": 16,
   "id": "c404e124-1952-41b8-a96d-c9a1c347994d",
   "metadata": {},
   "outputs": [
    {
     "name": "stdout",
     "output_type": "stream",
     "text": [
      "(1,)\n",
      "(0,)\n",
      "(1,)\n"
     ]
    }
   ],
   "source": [
    "print(conn.execute(\"select count(*) from customer\").fetchone())\n",
    "conn.execute(\"\"\"delete from Customer where CustomerID=1;\"\"\")\n",
    "print(conn.execute(\"select count(*) from customer\").fetchone())\n",
    "conn.rollback()\n",
    "print(conn.execute(\"select count(*) from customer\").fetchone())\n"
   ]
  },
  {
   "cell_type": "code",
   "execution_count": null,
   "id": "3bae6f4a-faea-4978-b047-79452a2ac787",
   "metadata": {},
   "outputs": [],
   "source": []
  },
  {
   "cell_type": "code",
   "execution_count": null,
   "id": "4829f1cc-e0c9-4d4c-9982-02634e1ac848",
   "metadata": {},
   "outputs": [],
   "source": []
  }
 ],
 "metadata": {
  "kernelspec": {
   "display_name": "Python (venv)",
   "language": "python",
   "name": "venv"
  },
  "language_info": {
   "codemirror_mode": {
    "name": "ipython",
    "version": 3
   },
   "file_extension": ".py",
   "mimetype": "text/x-python",
   "name": "python",
   "nbconvert_exporter": "python",
   "pygments_lexer": "ipython3",
   "version": "3.12.7"
  }
 },
 "nbformat": 4,
 "nbformat_minor": 5
}

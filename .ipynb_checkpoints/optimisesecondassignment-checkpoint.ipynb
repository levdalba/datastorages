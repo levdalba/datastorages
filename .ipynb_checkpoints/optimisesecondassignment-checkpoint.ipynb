{
 "cells": [
  {
   "cell_type": "markdown",
   "metadata": {},
   "source": [
    "# Global data-intensive project, part 02: basic OLTP data model"
   ]
  },
  {
   "cell_type": "code",
   "execution_count": 2,
   "metadata": {},
   "outputs": [
    {
     "name": "stdout",
     "output_type": "stream",
     "text": [
      "Requirement already satisfied: psycopg2 in /opt/anaconda3/lib/python3.12/site-packages (2.9.10)\n"
     ]
    }
   ],
   "source": [
    "!pip install psycopg2"
   ]
  },
  {
   "cell_type": "markdown",
   "metadata": {},
   "source": [
    "# Importing neccesary modules"
   ]
  },
  {
   "cell_type": "code",
   "execution_count": 3,
   "metadata": {},
   "outputs": [],
   "source": [
    "from sqlalchemy import create_engine, Column, Integer, String, Text, Float, ForeignKey, DECIMAL, TIMESTAMP, text\n",
    "from sqlalchemy.ext.declarative import declarative_base\n",
    "from sqlalchemy.orm import declarative_base, relationship, sessionmaker,Session\n",
    "from datetime import datetime\n",
    "import time\n",
    "from dotenv import load_dotenv\n",
    "import os\n",
    "from sqlalchemy import MetaData\n",
    "from concurrent.futures import ThreadPoolExecutor\n",
    "from psycopg2 import Error as Psycopg2Error\n",
    "import psycopg2\n",
    "from tqdm import tqdm\n",
    "from sqlalchemy import insert"
   ]
  },
  {
   "cell_type": "markdown",
   "metadata": {},
   "source": [
    "# Loading the Database url from .env file"
   ]
  },
  {
   "cell_type": "code",
   "execution_count": 4,
   "metadata": {},
   "outputs": [],
   "source": [
    "load_dotenv()\n",
    "database_url = os.getenv(\"DATABASE_URL\")"
   ]
  },
  {
   "cell_type": "markdown",
   "metadata": {},
   "source": [
    "# Initializing Database"
   ]
  },
  {
   "cell_type": "code",
   "execution_count": 5,
   "metadata": {},
   "outputs": [],
   "source": [
    "engine = create_engine(\n",
    "    database_url,\n",
    "    echo=False,\n",
    ")\n",
    "\n",
    "Base = declarative_base()\n",
    "\n",
    "metadata = MetaData()\n",
    "with engine.connect() as connection:\n",
    "    connection.execute(text(\"CREATE SCHEMA IF NOT EXISTS optimisedurbanpulse\"))\n",
    "    connection.commit()"
   ]
  },
  {
   "cell_type": "markdown",
   "metadata": {},
   "source": [
    "# Citizen Table"
   ]
  },
  {
   "cell_type": "code",
   "execution_count": 6,
   "metadata": {},
   "outputs": [],
   "source": [
    "class Citizen(Base):\n",
    "    __tablename__ = \"citizen\"\n",
    "    __table_args__ = {\"schema\": \"optimisedurbanpulse\"}\n",
    "    citizen_id = Column(Integer, primary_key=True, autoincrement=True)\n",
    "    first_name = Column(String(50))\n",
    "    last_name = Column(String(50))\n",
    "    full_name = Column(String(101))\n",
    "    sex = Column(String(10))\n",
    "    email = Column(String(255), unique=True)\n",
    "    contact_number = Column(String(20))\n",
    "    password = Column(String(255))\n",
    "    address = Column(Text)\n",
    "    created_at = Column(TIMESTAMP, default=datetime.utcnow)\n",
    "\n",
    "    issues = relationship(\"Issue\", back_populates=\"citizen\")\n",
    "    votes = relationship(\"Vote\", back_populates=\"citizen\")\n"
   ]
  },
  {
   "cell_type": "markdown",
   "metadata": {},
   "source": [
    "# Department Table"
   ]
  },
  {
   "cell_type": "code",
   "execution_count": 7,
   "metadata": {},
   "outputs": [],
   "source": [
    "class Department(Base):\n",
    "    __tablename__ = \"department\"\n",
    "    __table_args__ = {\"schema\": \"optimisedurbanpulse\"}\n",
    "    department_id = Column(Integer, primary_key=True, autoincrement=True)\n",
    "    name = Column(String(100), unique=True)\n",
    "    budget_points = Column(DECIMAL(12, 2))\n",
    "    created_at = Column(TIMESTAMP, default=datetime.utcnow)"
   ]
  },
  {
   "cell_type": "markdown",
   "metadata": {},
   "source": [
    "# Official Table"
   ]
  },
  {
   "cell_type": "code",
   "execution_count": 8,
   "metadata": {},
   "outputs": [],
   "source": [
    "class Official(Base):\n",
    "    __tablename__ = \"official\"\n",
    "    __table_args__ = {\"schema\": \"optimisedurbanpulse\"}\n",
    "    official_id = Column(Integer, primary_key=True, autoincrement=True)\n",
    "    first_name = Column(String(50))\n",
    "    last_name = Column(String(50))\n",
    "    full_name = Column(String(101))\n",
    "    sex = Column(String(10))\n",
    "    email = Column(String(255), unique=True)\n",
    "    contact_number = Column(String(20))\n",
    "    password = Column(String(255))\n",
    "    address = Column(Text)\n",
    "    # Fully qualify the referenced table name in the ForeignKey string:\n",
    "    department_id = Column(Integer, ForeignKey(\"optimisedurbanpulse.department.department_id\"))\n",
    "    created_at = Column(TIMESTAMP, default=datetime.utcnow)"
   ]
  },
  {
   "cell_type": "markdown",
   "metadata": {},
   "source": [
    "# Issue Table"
   ]
  },
  {
   "cell_type": "code",
   "execution_count": 9,
   "metadata": {},
   "outputs": [],
   "source": [
    "class Issue(Base):\n",
    "    __tablename__ = \"issue\"\n",
    "    __table_args__ = {\"schema\": \"optimisedurbanpulse\"}\n",
    "    issue_id = Column(Integer, primary_key=True, autoincrement=True)\n",
    "    citizen_id = Column(Integer, ForeignKey(\"optimisedurbanpulse.citizen.citizen_id\"))\n",
    "    description = Column(Text)\n",
    "    category = Column(String(50))\n",
    "    priority_level = Column(Integer)\n",
    "    latitude = Column(Float)\n",
    "    longitude = Column(Float)\n",
    "    status = Column(String(20))\n",
    "    created_at = Column(TIMESTAMP, default=datetime.utcnow)\n",
    "\n",
    "    citizen = relationship(\"Citizen\", back_populates=\"issues\")\n",
    "    votes = relationship(\"Vote\", back_populates=\"issue\")"
   ]
  },
  {
   "cell_type": "markdown",
   "metadata": {},
   "source": [
    "# Photo Table"
   ]
  },
  {
   "cell_type": "code",
   "execution_count": 10,
   "metadata": {},
   "outputs": [],
   "source": [
    "class Photo(Base):\n",
    "    __tablename__ = \"photo\"\n",
    "    __table_args__ = {\"schema\": \"optimisedurbanpulse\"}\n",
    "    photo_id = Column(Integer, primary_key=True, autoincrement=True)\n",
    "    issue_id = Column(Integer, ForeignKey(\"optimisedurbanpulse.issue.issue_id\"))\n",
    "    photo_url = Column(String(512))\n",
    "    created_at = Column(TIMESTAMP, default=datetime.utcnow)"
   ]
  },
  {
   "cell_type": "markdown",
   "metadata": {},
   "source": [
    "# Vote Table"
   ]
  },
  {
   "cell_type": "code",
   "execution_count": 11,
   "metadata": {},
   "outputs": [],
   "source": [
    "class Vote(Base):\n",
    "    __tablename__ = \"vote\"\n",
    "    __table_args__ = {\"schema\": \"optimisedurbanpulse\"}\n",
    "    vote_id = Column(Integer, primary_key=True, autoincrement=True)\n",
    "    citizen_id = Column(Integer, ForeignKey(\"optimisedurbanpulse.citizen.citizen_id\"))\n",
    "    issue_id = Column(Integer, ForeignKey(\"optimisedurbanpulse.issue.issue_id\"))\n",
    "    priority_vote = Column(Integer)\n",
    "    created_at = Column(TIMESTAMP, default=datetime.utcnow)\n",
    "\n",
    "    citizen = relationship(\"Citizen\", back_populates=\"votes\")\n",
    "    issue = relationship(\"Issue\", back_populates=\"votes\")"
   ]
  },
  {
   "cell_type": "markdown",
   "metadata": {},
   "source": [
    "# Transaction Table"
   ]
  },
  {
   "cell_type": "code",
   "execution_count": 12,
   "metadata": {},
   "outputs": [],
   "source": [
    "class Transaction(Base):\n",
    "    __tablename__ = \"transaction\"\n",
    "    __table_args__ = {\"schema\": \"optimisedurbanpulse\"}\n",
    "    transaction_id = Column(Integer, primary_key=True, autoincrement=True)\n",
    "    issue_id = Column(Integer, ForeignKey(\"optimisedurbanpulse.issue.issue_id\"))\n",
    "    official_id = Column(Integer, ForeignKey(\"optimisedurbanpulse.official.official_id\"))\n",
    "    budget_spent = Column(DECIMAL(10, 2))\n",
    "    status = Column(String(20))\n",
    "    created_at = Column(TIMESTAMP, default=datetime.utcnow)"
   ]
  },
  {
   "cell_type": "markdown",
   "metadata": {},
   "source": [
    "# Database setup"
   ]
  },
  {
   "cell_type": "code",
   "execution_count": 13,
   "metadata": {},
   "outputs": [],
   "source": [
    "Base.metadata.create_all(engine)\n",
    "Session = sessionmaker(bind=engine)\n",
    "session = Session()"
   ]
  },
  {
   "cell_type": "markdown",
   "metadata": {},
   "source": [
    "#  Sample data"
   ]
  },
  {
   "cell_type": "code",
   "execution_count": 14,
   "metadata": {},
   "outputs": [],
   "source": [
    "# Departments\n",
    "dept1 = Department(name=\"Infrastructure\", budget_points=50000)\n",
    "dept2 = Department(name=\"Health\", budget_points=75000)\n",
    "\n",
    "# Officials\n",
    "official1 = Official(first_name=\"John\", last_name=\"Doe\", full_name=\"John Doe\",\n",
    "                     sex=\"Male\", email=\"johndoe@email.com\", contact_number=\"1234567890\",\n",
    "                     password=\"hashedpassword\", address=\"City Hall, NY\", department_id=1)\n",
    "\n",
    "official2 = Official(first_name=\"Jane\", last_name=\"Smith\", full_name=\"Jane Smith\",\n",
    "                     sex=\"Female\", email=\"janesmith@email.com\", contact_number=\"0987654321\",\n",
    "                     password=\"hashedpassword\", address=\"Health Office, NY\", department_id=2)\n",
    "\n",
    "# Citizens\n",
    "citizen1 = Citizen(first_name=\"Alice\", last_name=\"Brown\", full_name=\"Alice Brown\",\n",
    "                   sex=\"Female\", email=\"alice@email.com\", contact_number=\"1112223333\",\n",
    "                   password=\"hashedpassword\", address=\"123 Main St, NY\")\n",
    "\n",
    "citizen2 = Citizen(first_name=\"Bob\", last_name=\"Miller\", full_name=\"Bob Miller\",\n",
    "                   sex=\"Male\", email=\"bob@email.com\", contact_number=\"4445556666\",\n",
    "                   password=\"hashedpassword\", address=\"456 Elm St, NY\")\n",
    "\n",
    "# Issues\n",
    "issue1 = Issue(citizen_id=1, description=\"Broken streetlights\",\n",
    "               category=\"Infrastructure\", priority_level=2, latitude=40.7128, longitude=-74.0060,\n",
    "               status=\"Pending\")\n",
    "\n",
    "issue2 = Issue(citizen_id=2, description=\"Public park needs maintenance\",\n",
    "               category=\"Environment\", priority_level=3, latitude=40.7138, longitude=-74.0070,\n",
    "               status=\"Pending\")\n",
    "\n",
    "# Add parent objects first\n",
    "session.add_all([\n",
    "    dept1, dept2,\n",
    "    official1, official2,\n",
    "    citizen1, citizen2,\n",
    "    issue1, issue2\n",
    "])\n",
    "session.flush()\n",
    "\n",
    "# Photos\n",
    "photo1 = Photo(issue_id=issue1.issue_id, photo_url=\"https://example.com/photo1.jpg\")\n",
    "photo2 = Photo(issue_id=issue2.issue_id, photo_url=\"https://example.com/photo2.jpg\")\n",
    "\n",
    "# Votes\n",
    "vote1 = Vote(citizen_id=1, issue_id=issue1.issue_id, priority_vote=5)\n",
    "vote2 = Vote(citizen_id=2, issue_id=issue2.issue_id, priority_vote=4)\n",
    "\n",
    "# Transactions\n",
    "transaction1 = Transaction(issue_id=issue1.issue_id, official_id=1, budget_spent=1000, status=\"Approved\")\n",
    "transaction2 = Transaction(issue_id=issue2.issue_id, official_id=2, budget_spent=2000, status=\"Pending\")\n",
    "\n",
    "# Add dependent objects\n",
    "session.add_all([\n",
    "    photo1, photo2,\n",
    "    vote1, vote2,\n",
    "    transaction1, transaction2\n",
    "])\n",
    "session.commit()"
   ]
  },
  {
   "cell_type": "markdown",
   "metadata": {},
   "source": [
    "# Creating new citizen"
   ]
  },
  {
   "cell_type": "code",
   "execution_count": 15,
   "metadata": {},
   "outputs": [],
   "source": [
    "def create_new_citizen(first_name, last_name, sex, email, contact_number, password, address):\n",
    "    session = Session()\n",
    "    citizen = Citizen(\n",
    "        first_name=first_name,\n",
    "        last_name=last_name,\n",
    "        full_name=f\"{first_name} {last_name}\",\n",
    "        sex=sex,\n",
    "        email=email,\n",
    "        contact_number=contact_number,\n",
    "        password=password,\n",
    "        address=address\n",
    "    )\n",
    "    session.add(citizen)\n",
    "    session.commit()\n",
    "    session.close()\n",
    "    print(f\"Created citizen: {citizen.full_name}\")\n",
    "    return citizen"
   ]
  },
  {
   "cell_type": "markdown",
   "metadata": {},
   "source": [
    "# Report issue"
   ]
  },
  {
   "cell_type": "code",
   "execution_count": 16,
   "metadata": {},
   "outputs": [],
   "source": [
    "def report_issue(citizen_id, description, category, priority_level, latitude, longitude, status=\"Pending\"):\n",
    "    session = Session()\n",
    "    try:\n",
    "        issue = Issue(\n",
    "            citizen_id=citizen_id,\n",
    "            description=description,\n",
    "            category=category,\n",
    "            priority_level=priority_level,\n",
    "            latitude=latitude,\n",
    "            longitude=longitude,\n",
    "            status=status\n",
    "        )\n",
    "        session.add(issue)\n",
    "        session.commit()\n",
    "        issue_id = issue.issue_id  # Extract ID while session is active\n",
    "        # print(f\"Issue reported: {description}\")\n",
    "        return issue_id  # Return the ID instead of the Issue object\n",
    "    finally:\n",
    "        session.close()"
   ]
  },
  {
   "cell_type": "markdown",
   "metadata": {},
   "source": [
    "# Cast vote"
   ]
  },
  {
   "cell_type": "code",
   "execution_count": 17,
   "metadata": {},
   "outputs": [],
   "source": [
    "def cast_vote(citizen_id, issue_id, priority_vote):\n",
    "    session = Session()\n",
    "    vote = Vote(\n",
    "        citizen_id=citizen_id,\n",
    "        issue_id=issue_id,\n",
    "        priority_vote=priority_vote\n",
    "    )\n",
    "    session.add(vote)\n",
    "    session.commit()\n",
    "    session.close()\n",
    "    return vote"
   ]
  },
  {
   "cell_type": "markdown",
   "metadata": {},
   "source": [
    "# Performance Test Functions"
   ]
  },
  {
   "cell_type": "markdown",
   "metadata": {},
   "source": [
    "### Measures the time taken to report a large number of issues"
   ]
  },
  {
   "cell_type": "code",
   "execution_count": 18,
   "metadata": {},
   "outputs": [],
   "source": [
    "def performance_test_report_issue(num_iterations):\n",
    "    start = time.time()\n",
    "    session = Session()\n",
    "    try:\n",
    "        # Get or create a citizen once\n",
    "        citizen = session.query(Citizen).first()\n",
    "        if not citizen:\n",
    "            citizen = create_new_citizen(\n",
    "                \"Test\", \"User\", \"Other\", \"testuser@example.com\",\n",
    "                \"0000000000\", \"password\", \"Test Address\"\n",
    "            )\n",
    "\n",
    "        # Prepare data for bulk insertion\n",
    "        issue_data = [\n",
    "            {\n",
    "                \"citizen_id\": citizen.citizen_id,\n",
    "                \"description\": f\"Issue {i}\",\n",
    "                \"category\": \"Infrastructure\",\n",
    "                \"priority_level\": 3,\n",
    "                \"latitude\": 12.34,\n",
    "                \"longitude\": 56.78,\n",
    "                \"status\": \"Pending\",\n",
    "                \"created_at\": datetime.utcnow()\n",
    "            } for i in tqdm(range(num_iterations))\n",
    "        ]\n",
    "\n",
    "        # Perform bulk insertion using SQLAlchemy Core\n",
    "        session.execute(\n",
    "            insert(Issue.__table__),\n",
    "            issue_data\n",
    "        )\n",
    "        session.commit()  # Single commit for all issues\n",
    "    finally:\n",
    "        session.close()\n",
    "    end = time.time()\n",
    "    print(f\"Performance Test - Reporting {num_iterations} issues took {end - start:.2f} seconds.\")"
   ]
  },
  {
   "cell_type": "markdown",
   "metadata": {},
   "source": [
    "### Measures the time taken to cast a large number of votes"
   ]
  },
  {
   "cell_type": "code",
   "execution_count": 19,
   "metadata": {},
   "outputs": [],
   "source": [
    "def performance_test_cast_vote(num_iterations):\n",
    "    start = time.time()\n",
    "    session = Session()\n",
    "    try:\n",
    "        # Get or create a citizen and issue once\n",
    "        citizen = session.query(Citizen).first()\n",
    "        issue = session.query(Issue).first()\n",
    "        if not citizen:\n",
    "            citizen = create_new_citizen(\n",
    "                \"Test\", \"User2\", \"Other\", \"testuser2@example.com\",\n",
    "                \"0000000000\", \"password\", \"Test Address 2\"\n",
    "            )\n",
    "        if not issue:\n",
    "            issue_id = report_issue(\n",
    "                citizen.citizen_id, \"Test issue for votes\", \"Infrastructure\",\n",
    "                3, 12.34, 56.78\n",
    "            )\n",
    "            session.commit()  # Commit the issue to get issue_id\n",
    "        else:\n",
    "            issue_id = issue.issue_id\n",
    "\n",
    "        # Prepare data for bulk insertion\n",
    "        vote_data = [\n",
    "            {\n",
    "                \"citizen_id\": citizen.citizen_id,\n",
    "                \"issue_id\": issue_id,\n",
    "                \"priority_vote\": 3,\n",
    "                \"created_at\": datetime.utcnow()\n",
    "            } for _ in tqdm(range(num_iterations))\n",
    "        ]\n",
    "\n",
    "        # Perform bulk insertion using SQLAlchemy Core\n",
    "        session.execute(\n",
    "            insert(Vote.__table__),\n",
    "            vote_data\n",
    "        )\n",
    "        session.commit()  # Single commit for all votes\n",
    "    finally:\n",
    "        session.close()\n",
    "    end = time.time()\n",
    "    print(f\"Performance Test - Casting {num_iterations} votes took {end - start:.2f} seconds.\")"
   ]
  },
  {
   "cell_type": "markdown",
   "metadata": {},
   "source": [
    "# Transaction Isolation Levels Demonstration\n",
    "`READ COMMITTED`, `REPEATABLE READ`, and `SERIALIZABLE`"
   ]
  },
  {
   "cell_type": "code",
   "execution_count": 20,
   "metadata": {},
   "outputs": [],
   "source": [
    "def process_issue_transaction(issue_id, official_id, budget_spent, isolation_level):\n",
    "    \"\"\"\n",
    "    Process a transaction without explicit locking to demonstrate isolation level effects.\n",
    "    \"\"\"\n",
    "    session = Session()\n",
    "    try:\n",
    "        # Set the isolation level for this transaction\n",
    "        session.connection().connection.set_isolation_level(isolation_level)\n",
    "        \n",
    "        official = session.query(Official).filter(Official.official_id == official_id).one()\n",
    "        # No with_for_update() - deliberately allowing race conditions\n",
    "        department = session.query(Department)\\\n",
    "            .filter(Department.department_id == official.department_id)\\\n",
    "            .one()\n",
    "        \n",
    "        print(f\"Transaction starting - Budget before: {department.budget_points}\")\n",
    "        if department.budget_points < budget_spent:\n",
    "            raise Exception(\"Not enough budget in the department.\")\n",
    "        \n",
    "        # Simulate some work to increase chance of race conditions\n",
    "        time.sleep(0.1)\n",
    "        \n",
    "        department.budget_points -= budget_spent\n",
    "        transaction_record = Transaction(\n",
    "            issue_id=issue_id,\n",
    "            official_id=official_id,\n",
    "            budget_spent=budget_spent,\n",
    "            status='Approved'\n",
    "        )\n",
    "        session.add(transaction_record)\n",
    "        session.commit()\n",
    "        print(f\"Transaction completed - Budget after: {department.budget_points}\")\n",
    "        return transaction_record\n",
    "    except Exception as e:\n",
    "        session.rollback()\n",
    "        print(f\"Transaction failed: {e}\")\n",
    "        raise  # Re-raise to catch in isolation test\n",
    "    finally:\n",
    "        session.close()\n",
    "    return None\n",
    "\n",
    "def isolation_test_process_issue_transaction():\n",
    "    \"\"\"\n",
    "    Demonstrate errors/behaviors for different isolation levels.\n",
    "    \"\"\"\n",
    "    # Setup initial data\n",
    "    session = Session()\n",
    "    try:\n",
    "        # Create or get department\n",
    "        department = session.query(Department).filter_by(name='Isolation Test Dept').first()\n",
    "        if not department:\n",
    "            department = Department(name='Isolation Test Dept', budget_points=1000.00)\n",
    "            session.add(department)\n",
    "            session.commit()\n",
    "\n",
    "        # Create or get official\n",
    "        official = session.query(Official).filter_by(email='isol@official.com').first()\n",
    "        if not official:\n",
    "            official = Official(\n",
    "                first_name='Iso', last_name='Test', full_name='Iso Test', sex='Other',\n",
    "                email='isol@official.com', contact_number='111111', password='password',\n",
    "                address='Test Address', department_id=department.department_id\n",
    "            )\n",
    "            session.add(official)\n",
    "            session.commit()\n",
    "\n",
    "        # Create or get citizen and issue\n",
    "        citizen = session.query(Citizen).first()\n",
    "        if not citizen:\n",
    "            citizen = create_new_citizen(\"Iso\", \"Citizen\", \"Other\", \"iso@citizen.com\", \"2222222222\", \"password\", \"Test Address\")\n",
    "        issue_id = report_issue(citizen.citizen_id, \"Isolation test issue\", \"Infrastructure\", 3, 12.34, 56.78)\n",
    "        official_id = official.official_id\n",
    "\n",
    "    finally:\n",
    "        session.close()\n",
    "\n",
    "    # Define wrapper with specific isolation level\n",
    "    def process_transaction_wrapper(budget_spent, isolation_level):\n",
    "        return process_issue_transaction(issue_id, official_id, budget_spent, isolation_level)\n",
    "\n",
    "    # Test each isolation level\n",
    "    isolation_levels = [\n",
    "        (\"READ_COMMITTED\", psycopg2.extensions.ISOLATION_LEVEL_READ_COMMITTED),\n",
    "        (\"REPEATABLE_READ\", psycopg2.extensions.ISOLATION_LEVEL_REPEATABLE_READ),\n",
    "        (\"SERIALIZABLE\", psycopg2.extensions.ISOLATION_LEVEL_SERIALIZABLE)\n",
    "    ]\n",
    "\n",
    "    for level_name, level_value in isolation_levels:\n",
    "        print(f\"\\n=== Testing {level_name} ===\")\n",
    "        \n",
    "        # Reset budget to 1000 before each test\n",
    "        session = Session()\n",
    "        try:\n",
    "            dept = session.query(Department).filter_by(name='Isolation Test Dept').first()\n",
    "            dept.budget_points = 1000.00\n",
    "            session.commit()\n",
    "        finally:\n",
    "            session.close()\n",
    "\n",
    "        # Run concurrent transactions\n",
    "        try:\n",
    "            with ThreadPoolExecutor(max_workers=2) as executor:\n",
    "                future1 = executor.submit(process_transaction_wrapper, 700, level_value)\n",
    "                future2 = executor.submit(process_transaction_wrapper, 700, level_value)\n",
    "                result1 = future1.result()\n",
    "                result2 = future2.result()\n",
    "\n",
    "            # Check final budget\n",
    "            session = Session()\n",
    "            final_budget = session.query(Department).filter_by(name='Isolation Test Dept').first().budget_points\n",
    "            session.close()\n",
    "            print(f\"Final budget after {level_name}: {final_budget}\")\n",
    "\n",
    "        except Psycopg2Error as e:\n",
    "            print(f\"Database error during {level_name}: {str(e)}\")\n",
    "        except Exception as e:\n",
    "            print(f\"General error during {level_name}: {str(e)}\")\n",
    "\n",
    "    print(\"\\n=== Demonstration Complete ===\")"
   ]
  },
  {
   "cell_type": "markdown",
   "metadata": {},
   "source": [
    "# Main block to run tests"
   ]
  },
  {
   "cell_type": "code",
   "execution_count": 21,
   "metadata": {},
   "outputs": [
    {
     "name": "stderr",
     "output_type": "stream",
     "text": [
      "/var/folders/q3/y9cmlg4s4xs988k0ck20g8cc0000gn/T/ipykernel_12904/3963583816.py:23: DeprecationWarning: datetime.datetime.utcnow() is deprecated and scheduled for removal in a future version. Use timezone-aware objects to represent datetimes in UTC: datetime.datetime.now(datetime.UTC).\n",
      "  \"created_at\": datetime.utcnow()\n",
      "100%|████████████████████████████████████████████████████████████████████████████████████████████████████████████████████| 1000/1000 [00:00<00:00, 356506.93it/s]\n"
     ]
    },
    {
     "name": "stdout",
     "output_type": "stream",
     "text": [
      "Performance Test - Reporting 1000 issues took 0.58 seconds.\n"
     ]
    },
    {
     "name": "stderr",
     "output_type": "stream",
     "text": [
      "/var/folders/q3/y9cmlg4s4xs988k0ck20g8cc0000gn/T/ipykernel_12904/248922497.py:28: DeprecationWarning: datetime.datetime.utcnow() is deprecated and scheduled for removal in a future version. Use timezone-aware objects to represent datetimes in UTC: datetime.datetime.now(datetime.UTC).\n",
      "  \"created_at\": datetime.utcnow()\n",
      "100%|████████████████████████████████████████████████████████████████████████████████████████████████████████████████████| 1000/1000 [00:00<00:00, 332327.39it/s]\n"
     ]
    },
    {
     "name": "stdout",
     "output_type": "stream",
     "text": [
      "Performance Test - Casting 1000 votes took 0.45 seconds.\n",
      "\n",
      "=== Testing READ_COMMITTED ===\n",
      "Transaction starting - Budget before: 1000.00\n",
      "Transaction starting - Budget before: 1000.00\n",
      "Transaction completed - Budget after: 300.00\n",
      "Transaction completed - Budget after: 300.00\n",
      "Final budget after READ_COMMITTED: 300.00\n",
      "\n",
      "=== Testing REPEATABLE_READ ===\n",
      "Transaction starting - Budget before: 1000.00\n",
      "Transaction starting - Budget before: 1000.00\n",
      "Transaction failed: (psycopg2.errors.SerializationFailure) could not serialize access due to concurrent update\n",
      "\n",
      "[SQL: UPDATE optimisedurbanpulse.department SET budget_points=%(budget_points)s WHERE optimisedurbanpulse.department.department_id = %(optimisedurbanpulse_department_department_id)s]\n",
      "[parameters: {'budget_points': Decimal('300.00'), 'optimisedurbanpulse_department_department_id': 3}]\n",
      "(Background on this error at: https://sqlalche.me/e/20/e3q8)\n",
      "Transaction completed - Budget after: 300.00\n",
      "General error during REPEATABLE_READ: (psycopg2.errors.SerializationFailure) could not serialize access due to concurrent update\n",
      "\n",
      "[SQL: UPDATE optimisedurbanpulse.department SET budget_points=%(budget_points)s WHERE optimisedurbanpulse.department.department_id = %(optimisedurbanpulse_department_department_id)s]\n",
      "[parameters: {'budget_points': Decimal('300.00'), 'optimisedurbanpulse_department_department_id': 3}]\n",
      "(Background on this error at: https://sqlalche.me/e/20/e3q8)\n",
      "\n",
      "=== Testing SERIALIZABLE ===\n",
      "Transaction starting - Budget before: 1000.00\n",
      "Transaction starting - Budget before: 1000.00\n",
      "Transaction failed: (psycopg2.errors.SerializationFailure) could not serialize access due to concurrent update\n",
      "\n",
      "[SQL: UPDATE optimisedurbanpulse.department SET budget_points=%(budget_points)s WHERE optimisedurbanpulse.department.department_id = %(optimisedurbanpulse_department_department_id)s]\n",
      "[parameters: {'budget_points': Decimal('300.00'), 'optimisedurbanpulse_department_department_id': 3}]\n",
      "(Background on this error at: https://sqlalche.me/e/20/e3q8)\n",
      "Transaction completed - Budget after: 300.00\n",
      "General error during SERIALIZABLE: (psycopg2.errors.SerializationFailure) could not serialize access due to concurrent update\n",
      "\n",
      "[SQL: UPDATE optimisedurbanpulse.department SET budget_points=%(budget_points)s WHERE optimisedurbanpulse.department.department_id = %(optimisedurbanpulse_department_department_id)s]\n",
      "[parameters: {'budget_points': Decimal('300.00'), 'optimisedurbanpulse_department_department_id': 3}]\n",
      "(Background on this error at: https://sqlalche.me/e/20/e3q8)\n",
      "\n",
      "=== Demonstration Complete ===\n"
     ]
    }
   ],
   "source": [
    "if __name__ == '__main__':\n",
    "    # Optional: Reset sequence or clear tables\n",
    "    with engine.connect() as connection:\n",
    "        connection.execute(text(\"SELECT setval('optimisedurbanpulse.issue_issue_id_seq', (SELECT COALESCE(MAX(issue_id), 0) + 1 FROM optimisedurbanpulse.issue))\"))\n",
    "        connection.commit()\n",
    "\n",
    "    # Run performance tests\n",
    "    performance_test_report_issue(num_iterations=1000)\n",
    "    performance_test_cast_vote(num_iterations=1000)\n",
    "\n",
    "    # Run isolation test\n",
    "    isolation_test_process_issue_transaction()"
   ]
  },
  {
   "cell_type": "markdown",
   "metadata": {},
   "source": []
  }
 ],
 "metadata": {
  "kernelspec": {
   "display_name": "Python 3 (ipykernel)",
   "language": "python",
   "name": "python3"
  },
  "language_info": {
   "codemirror_mode": {
    "name": "ipython",
    "version": 3
   },
   "file_extension": ".py",
   "mimetype": "text/x-python",
   "name": "python",
   "nbconvert_exporter": "python",
   "pygments_lexer": "ipython3",
   "version": "3.12.7"
  }
 },
 "nbformat": 4,
 "nbformat_minor": 4
}

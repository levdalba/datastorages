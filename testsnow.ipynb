{
 "cells": [
  {
   "cell_type": "code",
   "execution_count": 3,
   "id": "8fa9f696-ef7b-4f00-bab6-6dee3984c111",
   "metadata": {},
   "outputs": [
    {
     "name": "stdout",
     "output_type": "stream",
     "text": [
      "(150000,)\n"
     ]
    }
   ],
   "source": [
    "#pip install  snowflake-connector-python\n",
    "import snowflake.connector\n",
    "import pandas as pd\n",
    "snow_con = snowflake.connector.connect(user='student',password='HSUnivSFTests970',\n",
    "    account='gkb48589',warehouse='COMPUTE_s',database='DWH',ocsp_fail_open=False)\n",
    "snow_curs = snow_con.cursor()\n",
    "\n",
    "print(snow_curs.execute('select count(*) from SF_SAMPLE_DATA.TPCH_SF1.CUSTOMER').fetchone())"
   ]
  },
  {
   "cell_type": "code",
   "execution_count": 6,
   "id": "acd96a3c-1c74-4686-91b1-201a3a3b88d3",
   "metadata": {},
   "outputs": [
    {
     "data": {
      "text/plain": [
       "<snowflake.connector.cursor.SnowflakeCursor at 0x11176bec0>"
      ]
     },
     "execution_count": 6,
     "metadata": {},
     "output_type": "execute_result"
    }
   ],
   "source": [
    "create_table_query = \"\"\"\n",
    "CREATE TABLE IF NOT EXISTS SF_SAMPLE.PUBLIC.CUSTOMER (\n",
    "    CUSTOMERID INT AUTOINCREMENT,\n",
    "    NAME STRING NOT NULL,\n",
    "    TYPE STRING,\n",
    "    BALANCE FLOAT\n",
    ");\n",
    "\"\"\"\n",
    "snow_curs.execute(create_table_query)"
   ]
  },
  {
   "cell_type": "code",
   "execution_count": 8,
   "id": "eb7a950a-2b11-4f36-8bbc-3a19f502490e",
   "metadata": {},
   "outputs": [
    {
     "name": "stdout",
     "output_type": "stream",
     "text": [
      "ku\n",
      "Data extracted to /tmp/customer_data.csv\n"
     ]
    }
   ],
   "source": [
    "import snowflake.connector\n",
    "snow_con = snowflake.connector.connect(user='student',password='HSUnivSFTests970',\n",
    "    account='GKB48589',warehouse='COMPUTE_S',database='SF_SAMPLE',ocsp_fail_open=False)\n",
    "snow_curs = snow_con.cursor()\n",
    "print('ku')\n",
    "\n",
    "\n",
    "import csv\n",
    "# Specify the CSV file path\n",
    "csv_file_name = 'customer_data.csv'\n",
    "csv_file_path = '/tmp/'+'customer_data.csv'\n",
    "# Get data\n",
    "sql = 'select * from \"SF_SAMPLE\".\"PUBLIC\".\"CUSTOMER\"'\n",
    "snow_curs.execute(sql)\n",
    "f_curs = snow_curs.fetchall()\n",
    "\n",
    "# Write the data to a CSV file\n",
    "with open(csv_file_path, 'w', newline='') as csvfile:\n",
    "    csvwriter = csv.writer(csvfile)\n",
    "    for r in f_curs:\n",
    "        csvwriter.writerow(r)\n",
    "print(f\"Data extracted to {csv_file_path}\")"
   ]
  },
  {
   "cell_type": "code",
   "execution_count": 9,
   "id": "f872c2fd-6970-438a-9673-87e20470b389",
   "metadata": {},
   "outputs": [
    {
     "name": "stdout",
     "output_type": "stream",
     "text": [
      "PUT file:///tmp/customer_data.csv @~\n"
     ]
    },
    {
     "data": {
      "text/plain": [
       "[('customer_data.csv.gz', 'LOADED', 72, 72, 1, 0, None, None, None, None)]"
      ]
     },
     "execution_count": 9,
     "metadata": {},
     "output_type": "execute_result"
    }
   ],
   "source": [
    "# loading data\n",
    "\n",
    "\n",
    "snow_curs.execute(\"REMOVE @~\").fetchall()\n",
    "#snow_curs.execute(\"LIST @~\").fetchall()\n",
    "#PUT file command\n",
    "snow_curs.execute(\"USE SCHEMA SF_SAMPLE.PUBLIC\")\n",
    "sf_stage = '@~'\n",
    "put_command = f\"\"\"PUT file://{csv_file_path} {sf_stage}\"\"\"\n",
    "print(put_command)\n",
    "snow_curs.execute(put_command).fetchall()\n",
    "\n",
    "\n",
    "#Loading command\n",
    "from snowflake.connector.pandas_tools import write_pandas\n",
    "import pandas as pd\n",
    "#df = pd.read_csv(csv_file_path)\n",
    "#snow_curs.execute('USE SCHEMA SF_SAMPLE.PUBLIC')\n",
    "table_name = \"SF_SAMPLE.PUBLIC.CUSTOMER\"\n",
    "copy_into_cmd = f\"\"\"\n",
    "COPY INTO {table_name}\n",
    "FROM {sf_stage}/{csv_file_name}.gz\n",
    "FILE_FORMAT = (TYPE = 'CSV' FIELD_OPTIONALLY_ENCLOSED_BY = '\"' );\n",
    "\"\"\"\n",
    "snow_curs.execute(copy_into_cmd).fetchall()"
   ]
  },
  {
   "cell_type": "code",
   "execution_count": 10,
   "id": "0ed23beb-4f28-4f18-96d9-f7675710a77e",
   "metadata": {},
   "outputs": [
    {
     "name": "stdout",
     "output_type": "stream",
     "text": [
      "PUT file:///tmp/customer_data.csv @~\n"
     ]
    },
    {
     "data": {
      "text/plain": [
       "[('customer_data.csv',\n",
       "  'customer_data.csv.gz',\n",
       "  1536,\n",
       "  0,\n",
       "  'NONE',\n",
       "  'GZIP',\n",
       "  'SKIPPED',\n",
       "  '')]"
      ]
     },
     "execution_count": 10,
     "metadata": {},
     "output_type": "execute_result"
    }
   ],
   "source": [
    "snow_curs.execute(\"USE SCHEMA SF_SAMPLE.PUBLIC\")\n",
    "sf_stage = '@~'\n",
    "put_command = f\"\"\"PUT file://{csv_file_path} {sf_stage}\"\"\"\n",
    "print(put_command)\n",
    "snow_curs.execute(put_command).fetchall()\n"
   ]
  },
  {
   "cell_type": "code",
   "execution_count": 11,
   "id": "47ceb6db-c455-4948-8b75-b294bb2d624d",
   "metadata": {},
   "outputs": [
    {
     "data": {
      "text/plain": [
       "[('customer_data.csv.gz', 'LOADED', 71, 71, 1, 0, None, None, None, None)]"
      ]
     },
     "execution_count": 11,
     "metadata": {},
     "output_type": "execute_result"
    }
   ],
   "source": [
    "from snowflake.connector.pandas_tools import write_pandas\n",
    "import pandas as pd\n",
    "#df = pd.read_csv(csv_file_path)\n",
    "#snow_curs.execute('USE SCHEMA SF_SAMPLE.PUBLIC')\n",
    "table_name = \"SF_SAMPLE.PUBLIC.CUSTOMER\"\n",
    "copy_into_cmd = f\"\"\"\n",
    "COPY INTO {table_name}\n",
    "FROM {sf_stage}/{csv_file_name}.gz\n",
    "FILE_FORMAT = (TYPE = 'CSV' FIELD_OPTIONALLY_ENCLOSED_BY = '\"' SKIP_HEADER = 1);\n",
    "\"\"\"\n",
    "snow_curs.execute(copy_into_cmd).fetchall()"
   ]
  },
  {
   "cell_type": "code",
   "execution_count": null,
   "id": "ff88226e-add1-464f-9930-33eaaf84087e",
   "metadata": {},
   "outputs": [],
   "source": []
  }
 ],
 "metadata": {
  "kernelspec": {
   "display_name": "Python 3 (ipykernel)",
   "language": "python",
   "name": "python3"
  },
  "language_info": {
   "codemirror_mode": {
    "name": "ipython",
    "version": 3
   },
   "file_extension": ".py",
   "mimetype": "text/x-python",
   "name": "python",
   "nbconvert_exporter": "python",
   "pygments_lexer": "ipython3",
   "version": "3.12.7"
  }
 },
 "nbformat": 4,
 "nbformat_minor": 5
}

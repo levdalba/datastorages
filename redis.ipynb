{
 "cells": [
  {
   "cell_type": "code",
   "execution_count": 2,
   "id": "e62e7620-2c61-4756-831c-db7277b7b5ef",
   "metadata": {},
   "outputs": [],
   "source": [
    "#pip install redis\n",
    "import redis, random, timeit\n",
    "from timeit import default_timer as timer\n",
    "from datetime import timedelta\n",
    "import time"
   ]
  },
  {
   "cell_type": "code",
   "execution_count": 3,
   "id": "e0b204de-5ae4-4a27-b407-1c08910fa951",
   "metadata": {},
   "outputs": [
    {
     "data": {
      "text/plain": [
       "True"
      ]
     },
     "execution_count": 3,
     "metadata": {},
     "output_type": "execute_result"
    }
   ],
   "source": [
    "rc = redis.Redis(\n",
    "    host='redis-17146.crce176.me-central-1-1.ec2.redns.redis-cloud.com',\n",
    "    port=17146,\n",
    "    decode_responses=True,\n",
    "    username=\"default\",\n",
    "    password=\"2oRW9XO7DJ6ExA95YmUAE5ubp2UfyrF1\")\n",
    "\n",
    "\n",
    "rc.get('mykey')\n",
    "\n",
    "\n",
    "rc.set('mykey', 'Hello from Python!')"
   ]
  },
  {
   "cell_type": "code",
   "execution_count": 4,
   "id": "057df745-9566-4e0c-a29c-58d56d0a6713",
   "metadata": {},
   "outputs": [
    {
     "data": {
      "text/plain": [
       "'Hello from Python!'"
      ]
     },
     "execution_count": 4,
     "metadata": {},
     "output_type": "execute_result"
    }
   ],
   "source": [
    "rc.get('mykey')"
   ]
  },
  {
   "cell_type": "code",
   "execution_count": 14,
   "id": "dafb3a12-92ab-443d-a6fb-8acdf7537ea7",
   "metadata": {},
   "outputs": [
    {
     "data": {
      "text/plain": [
       "True"
      ]
     },
     "execution_count": 14,
     "metadata": {},
     "output_type": "execute_result"
    }
   ],
   "source": [
    "rc.set('mimzidveli xar dzaan', 'matedaijvi')"
   ]
  },
  {
   "cell_type": "code",
   "execution_count": 17,
   "id": "3782e7a8-c4a8-4270-a271-22b9bacd419e",
   "metadata": {},
   "outputs": [
    {
     "data": {
      "text/plain": [
       "['testmatedaijvi']"
      ]
     },
     "execution_count": 17,
     "metadata": {},
     "output_type": "execute_result"
    }
   ],
   "source": [
    "rc.keys('te*')"
   ]
  },
  {
   "cell_type": "code",
   "execution_count": 9,
   "id": "8ddb191a-274a-4e9d-a095-b0cd869865a3",
   "metadata": {
    "scrolled": true
   },
   "outputs": [
    {
     "data": {
      "text/plain": [
       "'matedaijvi'"
      ]
     },
     "execution_count": 9,
     "metadata": {},
     "output_type": "execute_result"
    }
   ],
   "source": [
    "rc.get('testmatedaijvi')"
   ]
  },
  {
   "cell_type": "code",
   "execution_count": 32,
   "id": "10d884f9-e6ad-483f-bb65-1047ca09e228",
   "metadata": {},
   "outputs": [
    {
     "data": {
      "text/plain": [
       "5"
      ]
     },
     "execution_count": 32,
     "metadata": {},
     "output_type": "execute_result"
    }
   ],
   "source": [
    "rc.lpush('somelist','one')"
   ]
  },
  {
   "cell_type": "code",
   "execution_count": 62,
   "id": "5beb195f-38bf-4854-935b-80426d6305cf",
   "metadata": {},
   "outputs": [],
   "source": [
    "for i in range(200):\n",
    "    rc.lpush('somelist', f'mates sheexnen {i}')"
   ]
  },
  {
   "cell_type": "code",
   "execution_count": 69,
   "id": "051a3707-99c1-4ade-b0a2-765f4884dba2",
   "metadata": {},
   "outputs": [
    {
     "data": {
      "text/plain": [
       "[]"
      ]
     },
     "execution_count": 69,
     "metadata": {},
     "output_type": "execute_result"
    }
   ],
   "source": [
    "rc.lrange('somelist', 0, 100)"
   ]
  },
  {
   "cell_type": "code",
   "execution_count": 55,
   "id": "88a9ac31-8387-49c8-8c79-8b67c9ae4bd4",
   "metadata": {},
   "outputs": [],
   "source": [
    "rc.rpop('somelist')"
   ]
  },
  {
   "cell_type": "code",
   "execution_count": 66,
   "id": "e7453288-84fd-40bf-a44e-33b2ce773575",
   "metadata": {},
   "outputs": [
    {
     "data": {
      "text/plain": [
       "1"
      ]
     },
     "execution_count": 66,
     "metadata": {},
     "output_type": "execute_result"
    }
   ],
   "source": [
    "rc.lpush('gia', 'io')"
   ]
  },
  {
   "cell_type": "code",
   "execution_count": 79,
   "id": "85e1af42-d114-4b2f-a233-20f1d86c2c05",
   "metadata": {},
   "outputs": [],
   "source": [
    "for i in range(19):\n",
    "    rc.sadd('myset',f'matestvis gulis jibeshi chasmis txovna N: {int(i)}')"
   ]
  },
  {
   "cell_type": "code",
   "execution_count": 81,
   "id": "f988bd1c-171f-41ae-80d3-0a11ac555319",
   "metadata": {},
   "outputs": [
    {
     "data": {
      "text/plain": [
       "{'four',\n",
       " 'mate chemi xar 0',\n",
       " 'mate chemi xar 1',\n",
       " 'mate chemi xar 10',\n",
       " 'mate chemi xar 11',\n",
       " 'mate chemi xar 12',\n",
       " 'mate chemi xar 13',\n",
       " 'mate chemi xar 14',\n",
       " 'mate chemi xar 15',\n",
       " 'mate chemi xar 16',\n",
       " 'mate chemi xar 17',\n",
       " 'mate chemi xar 18',\n",
       " 'mate chemi xar 2',\n",
       " 'mate chemi xar 3',\n",
       " 'mate chemi xar 4',\n",
       " 'mate chemi xar 5',\n",
       " 'mate chemi xar 6',\n",
       " 'mate chemi xar 7',\n",
       " 'mate chemi xar 8',\n",
       " 'mate chemi xar 9',\n",
       " 'mate chemi xar {i}',\n",
       " 'matestvis gulis jibeshi chasmis txovna N: 0',\n",
       " 'matestvis gulis jibeshi chasmis txovna N: 1',\n",
       " 'matestvis gulis jibeshi chasmis txovna N: 10',\n",
       " 'matestvis gulis jibeshi chasmis txovna N: 11',\n",
       " 'matestvis gulis jibeshi chasmis txovna N: 12',\n",
       " 'matestvis gulis jibeshi chasmis txovna N: 13',\n",
       " 'matestvis gulis jibeshi chasmis txovna N: 14',\n",
       " 'matestvis gulis jibeshi chasmis txovna N: 15',\n",
       " 'matestvis gulis jibeshi chasmis txovna N: 16',\n",
       " 'matestvis gulis jibeshi chasmis txovna N: 17',\n",
       " 'matestvis gulis jibeshi chasmis txovna N: 18',\n",
       " 'matestvis gulis jibeshi chasmis txovna N: 2',\n",
       " 'matestvis gulis jibeshi chasmis txovna N: 3',\n",
       " 'matestvis gulis jibeshi chasmis txovna N: 4',\n",
       " 'matestvis gulis jibeshi chasmis txovna N: 5',\n",
       " 'matestvis gulis jibeshi chasmis txovna N: 6',\n",
       " 'matestvis gulis jibeshi chasmis txovna N: 7',\n",
       " 'matestvis gulis jibeshi chasmis txovna N: 8',\n",
       " 'matestvis gulis jibeshi chasmis txovna N: 9',\n",
       " 'one',\n",
       " 'two',\n",
       " 'zas',\n",
       " 'zas 0',\n",
       " 'zas 1',\n",
       " 'zas 2',\n",
       " 'zas 3',\n",
       " 'zas 4',\n",
       " 'zas 5',\n",
       " 'zas 6',\n",
       " 'zas 7',\n",
       " 'zas 8',\n",
       " 'zas 9'}"
      ]
     },
     "execution_count": 81,
     "metadata": {},
     "output_type": "execute_result"
    }
   ],
   "source": [
    "rc.smembers('myset')"
   ]
  },
  {
   "cell_type": "code",
   "execution_count": 78,
   "id": "785f2a05-6438-47fb-b520-065b00fcc3c8",
   "metadata": {},
   "outputs": [
    {
     "data": {
      "text/plain": [
       "1"
      ]
     },
     "execution_count": 78,
     "metadata": {},
     "output_type": "execute_result"
    }
   ],
   "source": [
    "rc.sismember('myset','zas')"
   ]
  },
  {
   "cell_type": "code",
   "execution_count": 127,
   "id": "06852066-b8ea-4f15-b7ea-c1eae42647c3",
   "metadata": {},
   "outputs": [
    {
     "data": {
      "text/plain": [
       "1"
      ]
     },
     "execution_count": 127,
     "metadata": {},
     "output_type": "execute_result"
    }
   ],
   "source": [
    "rc.hset('mate','email', 'matelamazi@email.com')\n",
    "rc.hset('mate','name', 'Mate')\n",
    "rc.hset('mate','sqesi', 'gadaketebuli')\n",
    "rc.hset('mate','orientacia', 'gamoyleebuli')\n",
    "rc.hset('mate','foto agwera', 'https://st4.depositphotos.com/1857171/38288/i/1600/depositphotos_382880468-stock-photo-closeup-portrait-dumb-fool-bearded.jpg')"
   ]
  },
  {
   "cell_type": "code",
   "execution_count": 128,
   "id": "72321468-b4c5-4f27-a517-2f3fe9ccafe1",
   "metadata": {},
   "outputs": [
    {
     "data": {
      "text/plain": [
       "{'sqesi': 'gadaketebuli',\n",
       " 'orientacia': 'gamoyleebuli',\n",
       " 'name': 'Mate',\n",
       " 'email': 'matelamazi@email.com',\n",
       " 'foto agwera': 'https://st4.depositphotos.com/1857171/38288/i/1600/depositphotos_382880468-stock-photo-closeup-portrait-dumb-fool-bearded.jpg'}"
      ]
     },
     "execution_count": 128,
     "metadata": {},
     "output_type": "execute_result"
    }
   ],
   "source": [
    "rc.hgetall('mate')\n"
   ]
  },
  {
   "cell_type": "code",
   "execution_count": 130,
   "id": "de34ab97-96f2-4c91-8113-177925855f3a",
   "metadata": {},
   "outputs": [
    {
     "data": {
      "text/plain": [
       "'Mate'"
      ]
     },
     "execution_count": 130,
     "metadata": {},
     "output_type": "execute_result"
    }
   ],
   "source": [
    "rc.hget('mate','name')\n"
   ]
  },
  {
   "cell_type": "code",
   "execution_count": 129,
   "id": "3eb3ab4d-17d9-470a-87e4-d77e32f9cf4e",
   "metadata": {},
   "outputs": [
    {
     "data": {
      "text/plain": [
       "['gadaketebuli',\n",
       " 'gamoyleebuli',\n",
       " 'Mate',\n",
       " 'matelamazi@email.com',\n",
       " 'https://st4.depositphotos.com/1857171/38288/i/1600/depositphotos_382880468-stock-photo-closeup-portrait-dumb-fool-bearded.jpg']"
      ]
     },
     "execution_count": 129,
     "metadata": {},
     "output_type": "execute_result"
    }
   ],
   "source": [
    "rc.hvals('mate')\n"
   ]
  },
  {
   "cell_type": "code",
   "execution_count": 87,
   "id": "00c13017-2428-4869-8183-3789acb3667c",
   "metadata": {},
   "outputs": [
    {
     "data": {
      "text/plain": [
       "['email', 'name', 'sqesi', 'orientacia']"
      ]
     },
     "execution_count": 87,
     "metadata": {},
     "output_type": "execute_result"
    }
   ],
   "source": [
    "rc.hkeys('mate')"
   ]
  },
  {
   "cell_type": "code",
   "execution_count": 96,
   "id": "ebdaadba-5231-4e84-82c5-fcf502b18759",
   "metadata": {},
   "outputs": [
    {
     "data": {
      "text/plain": [
       "True"
      ]
     },
     "execution_count": 96,
     "metadata": {},
     "output_type": "execute_result"
    }
   ],
   "source": [
    "rc.set('some_val',100)\n",
    "\n",
    "\n"
   ]
  },
  {
   "cell_type": "code",
   "execution_count": 119,
   "id": "47d426f9-c55d-40bb-b8d2-5b5f287dc516",
   "metadata": {},
   "outputs": [
    {
     "data": {
      "text/plain": [
       "True"
      ]
     },
     "execution_count": 119,
     "metadata": {},
     "output_type": "execute_result"
    }
   ],
   "source": [
    "rc.expire('some_val', 10)"
   ]
  },
  {
   "cell_type": "code",
   "execution_count": 124,
   "id": "27cac16c-95dc-428b-9653-a753d58f0808",
   "metadata": {},
   "outputs": [
    {
     "data": {
      "text/plain": [
       "3"
      ]
     },
     "execution_count": 124,
     "metadata": {},
     "output_type": "execute_result"
    }
   ],
   "source": [
    "rc.ttl('some_val')"
   ]
  },
  {
   "cell_type": "code",
   "execution_count": 126,
   "id": "355f528b-8d3a-4723-98e8-053c3ac32f5e",
   "metadata": {},
   "outputs": [
    {
     "data": {
      "text/plain": [
       "'levanwove'"
      ]
     },
     "execution_count": 126,
     "metadata": {},
     "output_type": "execute_result"
    }
   ],
   "source": [
    "rc.get('keyy')"
   ]
  },
  {
   "cell_type": "code",
   "execution_count": null,
   "id": "bb638071-42e0-4854-9b9a-faf975e562d6",
   "metadata": {},
   "outputs": [],
   "source": []
  }
 ],
 "metadata": {
  "kernelspec": {
   "display_name": "Python 3 (ipykernel)",
   "language": "python",
   "name": "python3"
  },
  "language_info": {
   "codemirror_mode": {
    "name": "ipython",
    "version": 3
   },
   "file_extension": ".py",
   "mimetype": "text/x-python",
   "name": "python",
   "nbconvert_exporter": "python",
   "pygments_lexer": "ipython3",
   "version": "3.12.7"
  }
 },
 "nbformat": 4,
 "nbformat_minor": 5
}

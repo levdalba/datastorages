{
 "cells": [
  {
   "cell_type": "code",
   "execution_count": 2,
   "id": "b899da73-9e45-41f1-89ab-9fbb98584a94",
   "metadata": {},
   "outputs": [
    {
     "name": "stdout",
     "output_type": "stream",
     "text": [
      "Collecting snowflake-connector-python\n",
      "  Downloading snowflake_connector_python-3.14.0-cp312-cp312-macosx_11_0_arm64.whl.metadata (67 kB)\n",
      "Collecting asn1crypto<2.0.0,>0.24.0 (from snowflake-connector-python)\n",
      "  Downloading asn1crypto-1.5.1-py2.py3-none-any.whl.metadata (13 kB)\n",
      "Requirement already satisfied: cffi<2.0.0,>=1.9 in /opt/anaconda3/lib/python3.12/site-packages (from snowflake-connector-python) (1.17.1)\n",
      "Requirement already satisfied: cryptography>=3.1.0 in /opt/anaconda3/lib/python3.12/site-packages (from snowflake-connector-python) (43.0.0)\n",
      "Collecting pyOpenSSL<26.0.0,>=22.0.0 (from snowflake-connector-python)\n",
      "  Downloading pyOpenSSL-25.0.0-py3-none-any.whl.metadata (16 kB)\n",
      "Requirement already satisfied: pyjwt<3.0.0 in /opt/anaconda3/lib/python3.12/site-packages (from snowflake-connector-python) (2.8.0)\n",
      "Requirement already satisfied: pytz in /opt/anaconda3/lib/python3.12/site-packages (from snowflake-connector-python) (2024.1)\n",
      "Requirement already satisfied: requests<3.0.0 in /opt/anaconda3/lib/python3.12/site-packages (from snowflake-connector-python) (2.32.3)\n",
      "Requirement already satisfied: packaging in /opt/anaconda3/lib/python3.12/site-packages (from snowflake-connector-python) (24.1)\n",
      "Requirement already satisfied: charset_normalizer<4,>=2 in /opt/anaconda3/lib/python3.12/site-packages (from snowflake-connector-python) (3.3.2)\n",
      "Requirement already satisfied: idna<4,>=2.5 in /opt/anaconda3/lib/python3.12/site-packages (from snowflake-connector-python) (3.7)\n",
      "Requirement already satisfied: certifi>=2017.4.17 in /opt/anaconda3/lib/python3.12/site-packages (from snowflake-connector-python) (2024.12.14)\n",
      "Requirement already satisfied: typing_extensions<5,>=4.3 in /opt/anaconda3/lib/python3.12/site-packages (from snowflake-connector-python) (4.11.0)\n",
      "Requirement already satisfied: filelock<4,>=3.5 in /opt/anaconda3/lib/python3.12/site-packages (from snowflake-connector-python) (3.13.1)\n",
      "Collecting sortedcontainers>=2.4.0 (from snowflake-connector-python)\n",
      "  Downloading sortedcontainers-2.4.0-py2.py3-none-any.whl.metadata (10 kB)\n",
      "Requirement already satisfied: platformdirs<5.0.0,>=2.6.0 in /opt/anaconda3/lib/python3.12/site-packages (from snowflake-connector-python) (3.10.0)\n",
      "Collecting tomlkit (from snowflake-connector-python)\n",
      "  Downloading tomlkit-0.13.2-py3-none-any.whl.metadata (2.7 kB)\n",
      "Requirement already satisfied: pycparser in /opt/anaconda3/lib/python3.12/site-packages (from cffi<2.0.0,>=1.9->snowflake-connector-python) (2.21)\n",
      "Requirement already satisfied: urllib3<3,>=1.21.1 in /opt/anaconda3/lib/python3.12/site-packages (from requests<3.0.0->snowflake-connector-python) (2.2.3)\n",
      "Downloading snowflake_connector_python-3.14.0-cp312-cp312-macosx_11_0_arm64.whl (963 kB)\n",
      "\u001b[2K   \u001b[38;2;114;156;31m━━━━━━━━━━━━━━━━━━━━━━━━━━━━━━━━━━━━━━━━\u001b[0m \u001b[32m963.2/963.2 kB\u001b[0m \u001b[31m14.8 MB/s\u001b[0m eta \u001b[36m0:00:00\u001b[0m\n",
      "Downloading asn1crypto-1.5.1-py2.py3-none-any.whl (105 kB)\n",
      "Downloading pyOpenSSL-25.0.0-py3-none-any.whl (56 kB)\n",
      "Downloading sortedcontainers-2.4.0-py2.py3-none-any.whl (29 kB)\n",
      "Downloading tomlkit-0.13.2-py3-none-any.whl (37 kB)\n",
      "Installing collected packages: sortedcontainers, asn1crypto, tomlkit, pyOpenSSL, snowflake-connector-python\n",
      "Successfully installed asn1crypto-1.5.1 pyOpenSSL-25.0.0 snowflake-connector-python-3.14.0 sortedcontainers-2.4.0 tomlkit-0.13.2\n"
     ]
    }
   ],
   "source": [
    "!pip install  snowflake-connector-python"
   ]
  },
  {
   "cell_type": "code",
   "execution_count": 3,
   "id": "eb290bdd-b89e-42fb-b7f5-20c0ec3f2b88",
   "metadata": {},
   "outputs": [],
   "source": [
    "import snowflake.connector\n",
    "import pandas as pd\n",
    "snow_con = snowflake.connector.connect(user='student',password='HSUnivSFTests970',\n",
    "    account='gkb48589',warehouse='COMPUTE_s',database='DWH',ocsp_fail_open=False)\n",
    "snow_curs = snow_con.cursor()\n"
   ]
  },
  {
   "cell_type": "code",
   "execution_count": 4,
   "id": "ee12783a-3f4a-4f80-a495-75aaa5afc624",
   "metadata": {},
   "outputs": [
    {
     "name": "stdout",
     "output_type": "stream",
     "text": [
      "(150000,)\n"
     ]
    }
   ],
   "source": [
    "print(snow_curs.execute('select count(*) from SF_SAMPLE_DATA.TPCH_SF1.CUSTOMER').fetchone())\n"
   ]
  },
  {
   "cell_type": "code",
   "execution_count": 6,
   "id": "65a09b7a-8deb-45f8-9470-44f9249e41d3",
   "metadata": {},
   "outputs": [
    {
     "data": {
      "text/plain": [
       "<snowflake.connector.cursor.SnowflakeCursor at 0x1140f3230>"
      ]
     },
     "execution_count": 6,
     "metadata": {},
     "output_type": "execute_result"
    }
   ],
   "source": [
    "create_table_query = \"\"\"\n",
    "CREATE TABLE IF NOT EXISTS SF_SAMPLE.PUBLIC.CUSTOMER (\n",
    "    CUSTOMERID INT AUTOINCREMENT,\n",
    "    NAME STRING NOT NULL,\n",
    "    TYPE STRING,\n",
    "    BALANCE FLOAT\n",
    ");\n",
    "\"\"\"\n",
    "snow_curs.execute(create_table_query)\n",
    "\n"
   ]
  },
  {
   "cell_type": "code",
   "execution_count": 7,
   "id": "45f4736c-177d-4da3-810e-780cfe18da97",
   "metadata": {},
   "outputs": [
    {
     "ename": "NameError",
     "evalue": "name 'csv_file_path' is not defined",
     "output_type": "error",
     "traceback": [
      "\u001b[31m---------------------------------------------------------------------------\u001b[39m",
      "\u001b[31mNameError\u001b[39m                                 Traceback (most recent call last)",
      "\u001b[36mCell\u001b[39m\u001b[36m \u001b[39m\u001b[32mIn[7]\u001b[39m\u001b[32m, line 3\u001b[39m\n\u001b[32m      1\u001b[39m snow_curs.execute(\u001b[33m\"\u001b[39m\u001b[33mUSE SCHEMA SF_SAMPLE.PUBLIC\u001b[39m\u001b[33m\"\u001b[39m)\n\u001b[32m      2\u001b[39m sf_stage = \u001b[33m'\u001b[39m\u001b[33m@~\u001b[39m\u001b[33m'\u001b[39m\n\u001b[32m----> \u001b[39m\u001b[32m3\u001b[39m put_command = \u001b[33mf\u001b[39m\u001b[33m\"\"\"\u001b[39m\u001b[33mPUT file://\u001b[39m\u001b[38;5;132;01m{\u001b[39;00m\u001b[43mcsv_file_path\u001b[49m\u001b[38;5;132;01m}\u001b[39;00m\u001b[33m \u001b[39m\u001b[38;5;132;01m{\u001b[39;00msf_stage\u001b[38;5;132;01m}\u001b[39;00m\u001b[33m\"\"\"\u001b[39m\n\u001b[32m      4\u001b[39m \u001b[38;5;28mprint\u001b[39m(put_command)\n\u001b[32m      5\u001b[39m snow_curs.execute(put_command).fetchall()\n",
      "\u001b[31mNameError\u001b[39m: name 'csv_file_path' is not defined"
     ]
    }
   ],
   "source": [
    "snow_curs.execute(\"USE SCHEMA SF_SAMPLE.PUBLIC\")\n",
    "sf_stage = '@~'\n",
    "put_command = f\"\"\"PUT file://{csv_file_path} {sf_stage}\"\"\"\n",
    "print(put_command)\n",
    "snow_curs.execute(put_command).fetchall()\n"
   ]
  },
  {
   "cell_type": "code",
   "execution_count": null,
   "id": "9cf3dce4-414e-4b12-8eeb-65b77da227dd",
   "metadata": {},
   "outputs": [],
   "source": []
  }
 ],
 "metadata": {
  "kernelspec": {
   "display_name": "Python 3 (ipykernel)",
   "language": "python",
   "name": "python3"
  },
  "language_info": {
   "codemirror_mode": {
    "name": "ipython",
    "version": 3
   },
   "file_extension": ".py",
   "mimetype": "text/x-python",
   "name": "python",
   "nbconvert_exporter": "python",
   "pygments_lexer": "ipython3",
   "version": "3.12.7"
  }
 },
 "nbformat": 4,
 "nbformat_minor": 5
}

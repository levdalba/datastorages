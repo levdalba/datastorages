{
 "cells": [
  {
   "cell_type": "code",
   "execution_count": 5,
   "id": "8661e33c-b90d-427e-8af7-2cf04e49d897",
   "metadata": {},
   "outputs": [],
   "source": [
    "import sqlite3, random, timeit\n",
    "from timeit import default_timer as timer\n",
    "from datetime import timedelta\n",
    "\n",
    "conn = sqlite3.connect('/tmp/db.sqlite', isolation_level=None)"
   ]
  },
  {
   "cell_type": "code",
   "execution_count": 2,
   "id": "afc6d7d3-40e1-42e7-82bc-e6262f0af9fa",
   "metadata": {},
   "outputs": [
    {
     "ename": "OperationalError",
     "evalue": "no such table: Product",
     "output_type": "error",
     "traceback": [
      "\u001b[0;31m---------------------------------------------------------------------------\u001b[0m",
      "\u001b[0;31mOperationalError\u001b[0m                          Traceback (most recent call last)",
      "Cell \u001b[0;32mIn[2], line 1\u001b[0m\n\u001b[0;32m----> 1\u001b[0m \u001b[43mconn\u001b[49m\u001b[38;5;241;43m.\u001b[39;49m\u001b[43mexecute\u001b[49m\u001b[43m(\u001b[49m\u001b[38;5;124;43m\"\"\"\u001b[39;49m\u001b[38;5;124;43mdrop table Product;\u001b[39;49m\u001b[38;5;124;43m\"\"\"\u001b[39;49m\u001b[43m)\u001b[49m\n",
      "\u001b[0;31mOperationalError\u001b[0m: no such table: Product"
     ]
    }
   ],
   "source": [
    "conn.execute(\"\"\"drop table Product;\"\"\")"
   ]
  },
  {
   "cell_type": "code",
   "execution_count": null,
   "id": "73828005-2d66-40ca-8b87-cfc4fdf7e69f",
   "metadata": {},
   "outputs": [],
   "source": []
  },
  {
   "cell_type": "code",
   "execution_count": 2,
   "id": "25e13c73-7ca6-4b2d-a5f2-633e4e3ea9e8",
   "metadata": {},
   "outputs": [
    {
     "data": {
      "text/plain": [
       "<sqlite3.Cursor at 0x103ae0340>"
      ]
     },
     "execution_count": 2,
     "metadata": {},
     "output_type": "execute_result"
    }
   ],
   "source": [
    "conn.execute(\"\"\"CREATE TABLE Product(\n",
    "\tProductID int primary key NOT NULL,\n",
    "\tName varchar,\n",
    "\tType varchar,\n",
    "\tPrice int CHECK(Price>=0),\n",
    "\tAmount int\n",
    ");\"\"\")"
   ]
  },
  {
   "cell_type": "code",
   "execution_count": 3,
   "id": "c976747f-cb0e-467c-a8d9-d962bb965af7",
   "metadata": {},
   "outputs": [
    {
     "data": {
      "text/plain": [
       "<sqlite3.Cursor at 0x103ac1f40>"
      ]
     },
     "execution_count": 3,
     "metadata": {},
     "output_type": "execute_result"
    }
   ],
   "source": [
    "conn.execute(\"\"\"INSERT INTO Product(ProductID,Name,Type,Price, Amount)\n",
    "VALUES(16,'Tea','Drink',2, 'A lot of stuff');\"\"\")\n"
   ]
  },
  {
   "cell_type": "code",
   "execution_count": 4,
   "id": "4c2242b7-9d8f-43a5-98ed-c32516a2535e",
   "metadata": {},
   "outputs": [
    {
     "data": {
      "text/plain": [
       "<sqlite3.Cursor at 0x103ae1340>"
      ]
     },
     "execution_count": 4,
     "metadata": {},
     "output_type": "execute_result"
    }
   ],
   "source": [
    "conn.execute(\"\"\"INSERT INTO Product(ProductID,Name,Type,Price, Amount)\n",
    "VALUES(11,'Milk','Drink',5, 10);\"\"\")\n",
    "conn.execute(\"\"\"INSERT INTO Product(ProductID,Name,Type,Price, Amount)\n",
    "VALUES(12,'Water','Drink',2, 10);\"\"\")\n",
    "conn.execute(\"\"\"INSERT INTO Product(ProductID,Name,Type,Price, Amount)\n",
    "VALUES(13,'Bread','Food',3, 10);\"\"\")\n",
    "conn.execute(\"\"\"INSERT INTO Product(ProductID,Name,Type,Price, Amount)\n",
    "VALUES(15,'Tea','Drink',8, 10);\"\"\")"
   ]
  },
  {
   "cell_type": "code",
   "execution_count": 62,
   "id": "73751108-f465-45b0-92b8-9243c8a5b021",
   "metadata": {},
   "outputs": [
    {
     "name": "stdout",
     "output_type": "stream",
     "text": [
      "(16, 'Tea', 'Drink', 2, 'A lot of stuff')\n"
     ]
    }
   ],
   "source": [
    "custs = conn.execute(\"select * from product\").fetchall()\n",
    "for c in custs:\n",
    "    print(c)"
   ]
  },
  {
   "cell_type": "code",
   "execution_count": 52,
   "id": "8d401fee-af3b-42e0-bb69-e693e04375c5",
   "metadata": {},
   "outputs": [
    {
     "ename": "IntegrityError",
     "evalue": "UNIQUE constraint failed: Product.ProductID",
     "output_type": "error",
     "traceback": [
      "\u001b[0;31m---------------------------------------------------------------------------\u001b[0m",
      "\u001b[0;31mIntegrityError\u001b[0m                            Traceback (most recent call last)",
      "Cell \u001b[0;32mIn[52], line 1\u001b[0m\n\u001b[0;32m----> 1\u001b[0m \u001b[43mconn\u001b[49m\u001b[38;5;241;43m.\u001b[39;49m\u001b[43mexecute\u001b[49m\u001b[43m(\u001b[49m\u001b[38;5;124;43m\"\"\"\u001b[39;49m\u001b[38;5;124;43mINSERT INTO Product(ProductID,Name,Type,Price, Amount)\u001b[39;49m\n\u001b[1;32m      2\u001b[0m \u001b[38;5;124;43mVALUES(14,\u001b[39;49m\u001b[38;5;124;43m'\u001b[39;49m\u001b[38;5;124;43mMilk\u001b[39;49m\u001b[38;5;124;43m'\u001b[39;49m\u001b[38;5;124;43m,\u001b[39;49m\u001b[38;5;124;43m'\u001b[39;49m\u001b[38;5;124;43mDrink\u001b[39;49m\u001b[38;5;124;43m'\u001b[39;49m\u001b[38;5;124;43m,2, 10);\u001b[39;49m\u001b[38;5;124;43m\"\"\"\u001b[39;49m\u001b[43m)\u001b[49m\n\u001b[1;32m      5\u001b[0m conn\u001b[38;5;241m.\u001b[39mexecute(\u001b[38;5;124m\"\"\"\u001b[39m\u001b[38;5;124mINSERT INTO Product(ProductID,Name,Type,Price, Amount)\u001b[39m\n\u001b[1;32m      6\u001b[0m \u001b[38;5;124mVALUES(14,\u001b[39m\u001b[38;5;124m'\u001b[39m\u001b[38;5;124mTea\u001b[39m\u001b[38;5;124m'\u001b[39m\u001b[38;5;124m,\u001b[39m\u001b[38;5;124m'\u001b[39m\u001b[38;5;124mDrink\u001b[39m\u001b[38;5;124m'\u001b[39m\u001b[38;5;124m,-2, 10);\u001b[39m\u001b[38;5;124m\"\"\"\u001b[39m)\n",
      "\u001b[0;31mIntegrityError\u001b[0m: UNIQUE constraint failed: Product.ProductID"
     ]
    }
   ],
   "source": [
    "conn.execute(\"\"\"INSERT INTO Product(ProductID,Name,Type,Price, Amount)\n",
    "VALUES(14,'Milk','Drink',2, 10);\"\"\")\n",
    "\n",
    "\n",
    "conn.execute(\"\"\"INSERT INTO Product(ProductID,Name,Type,Price, Amount)\n",
    "VALUES(14,'Tea','Drink',-2, 10);\"\"\")\n"
   ]
  },
  {
   "cell_type": "code",
   "execution_count": 53,
   "id": "e071f868-450d-4312-aa82-b88c25600859",
   "metadata": {},
   "outputs": [
    {
     "ename": "OperationalError",
     "evalue": "table Purchase already exists",
     "output_type": "error",
     "traceback": [
      "\u001b[0;31m---------------------------------------------------------------------------\u001b[0m",
      "\u001b[0;31mOperationalError\u001b[0m                          Traceback (most recent call last)",
      "Cell \u001b[0;32mIn[53], line 1\u001b[0m\n\u001b[0;32m----> 1\u001b[0m \u001b[43mconn\u001b[49m\u001b[38;5;241;43m.\u001b[39;49m\u001b[43mexecute\u001b[49m\u001b[43m(\u001b[49m\u001b[38;5;124;43m\"\"\"\u001b[39;49m\u001b[38;5;124;43mCREATE TABLE Purchase(\u001b[39;49m\n\u001b[1;32m      2\u001b[0m \u001b[38;5;124;43m\tProductID int,\u001b[39;49m\n\u001b[1;32m      3\u001b[0m \u001b[38;5;124;43m\tCustomerID int,\u001b[39;49m\n\u001b[1;32m      4\u001b[0m \u001b[38;5;124;43m\tPurchaseDate datetime,\u001b[39;49m\n\u001b[1;32m      5\u001b[0m \u001b[38;5;124;43m\tAmount int,\u001b[39;49m\n\u001b[1;32m      6\u001b[0m \u001b[38;5;124;43m\tPrice int,\u001b[39;49m\n\u001b[1;32m      7\u001b[0m \u001b[38;5;124;43m\tFOREIGN KEY(ProductID) REFERENCES Product(ProductID)\u001b[39;49m\n\u001b[1;32m      8\u001b[0m \u001b[38;5;124;43m);\u001b[39;49m\u001b[38;5;124;43m\"\"\"\u001b[39;49m\u001b[43m)\u001b[49m\n",
      "\u001b[0;31mOperationalError\u001b[0m: table Purchase already exists"
     ]
    }
   ],
   "source": [
    "conn.execute(\"\"\"CREATE TABLE Purchase(\n",
    "\tProductID int,\n",
    "\tCustomerID int,\n",
    "\tPurchaseDate datetime,\n",
    "\tAmount int,\n",
    "\tPrice int,\n",
    "\tFOREIGN KEY(ProductID) REFERENCES Product(ProductID)\n",
    ");\"\"\")\n"
   ]
  },
  {
   "cell_type": "code",
   "execution_count": 56,
   "id": "bccaf9d8-ab6b-494f-86c4-f8249bcd0ebf",
   "metadata": {},
   "outputs": [
    {
     "data": {
      "text/plain": [
       "<sqlite3.Cursor at 0x115215a40>"
      ]
     },
     "execution_count": 56,
     "metadata": {},
     "output_type": "execute_result"
    }
   ],
   "source": [
    "conn.execute(\"\"\"INSERT INTO Purchase(ProductID,CustomerID,PurchaseDate,Price,Amount)\n",
    "VALUES(17, 2, datetime('2021-10-27'), 3, 2);\"\"\")"
   ]
  },
  {
   "cell_type": "code",
   "execution_count": 57,
   "id": "8a110f0e-6602-410c-ad0f-d77b2c506328",
   "metadata": {},
   "outputs": [
    {
     "name": "stdout",
     "output_type": "stream",
     "text": [
      "(17, 2, '2021-10-27 00:00:00', 2, 3)\n",
      "(17, 2, '2021-10-27 00:00:00', 2, 3)\n",
      "(17, 2, '2021-10-27 00:00:00', 2, 3)\n"
     ]
    }
   ],
   "source": [
    "pur = conn.execute(\"select * from Purchase\").fetchall()\n",
    "for c in pur:\n",
    "    print(c)"
   ]
  },
  {
   "cell_type": "code",
   "execution_count": 58,
   "id": "fd6658ba-87b5-408f-8935-aef8ca9e740e",
   "metadata": {},
   "outputs": [
    {
     "data": {
      "text/plain": [
       "<sqlite3.Cursor at 0x115242040>"
      ]
     },
     "execution_count": 58,
     "metadata": {},
     "output_type": "execute_result"
    }
   ],
   "source": [
    "conn.execute(\"\"\"PRAGMA foreign_keys = FALSE;\"\"\")\n",
    "\n",
    "\n",
    "conn.execute(\"\"\"DROP TABLE Purchase;\"\"\")\n",
    "\n",
    "\n",
    "conn.execute(\"\"\"CREATE TABLE Purchase(\n",
    "\tProductID int,\n",
    "\tCustomerID int,\n",
    "\tPurchaseDate datetime,\n",
    "\tAmount int,\n",
    "\tPrice int,\n",
    "\tFOREIGN KEY(ProductID) REFERENCES Product(ProductID)\n",
    ");\"\"\")\n",
    "\n",
    "\n",
    "conn.execute(\"\"\"INSERT INTO Purchase(ProductID,CustomerID,PurchaseDate,Price,Amount)\n",
    "VALUES(17, 2, datetime('2021-10-27'), 3, 2);\"\"\")"
   ]
  },
  {
   "cell_type": "code",
   "execution_count": null,
   "id": "be050062-d5a7-48e6-b290-f85b03d9db60",
   "metadata": {},
   "outputs": [],
   "source": []
  }
 ],
 "metadata": {
  "kernelspec": {
   "display_name": "Python 3 (ipykernel)",
   "language": "python",
   "name": "python3"
  },
  "language_info": {
   "codemirror_mode": {
    "name": "ipython",
    "version": 3
   },
   "file_extension": ".py",
   "mimetype": "text/x-python",
   "name": "python",
   "nbconvert_exporter": "python",
   "pygments_lexer": "ipython3",
   "version": "3.12.7"
  }
 },
 "nbformat": 4,
 "nbformat_minor": 5
}

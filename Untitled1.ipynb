{
 "cells": [
  {
   "cell_type": "code",
   "execution_count": 4,
   "id": "4662c5ad-cd3e-426a-ad6c-1841ce7e58d1",
   "metadata": {},
   "outputs": [],
   "source": [
    "import sqlite3, random, timeit\n",
    "import pandas as pd\n",
    "imp = pd.read_csv('/tmp/stripe_sample.csv')\n",
    "conn = sqlite3.connect('/tmp/db.sqlite')\n",
    "# write the data to a sqlite table.\n",
    "imp.to_sql('stripe_sample', conn, if_exists='append', index = False)\n",
    "conn.commit()"
   ]
  },
  {
   "cell_type": "code",
   "execution_count": null,
   "id": "8af88cf1-028b-4ed9-8bc5-29ef37708258",
   "metadata": {},
   "outputs": [],
   "source": []
  }
 ],
 "metadata": {
  "kernelspec": {
   "display_name": "Python 3 (ipykernel)",
   "language": "python",
   "name": "python3"
  },
  "language_info": {
   "codemirror_mode": {
    "name": "ipython",
    "version": 3
   },
   "file_extension": ".py",
   "mimetype": "text/x-python",
   "name": "python",
   "nbconvert_exporter": "python",
   "pygments_lexer": "ipython3",
   "version": "3.12.7"
  }
 },
 "nbformat": 4,
 "nbformat_minor": 5
}
